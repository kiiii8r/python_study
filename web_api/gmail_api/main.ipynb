{
 "cells": [
  {
   "cell_type": "markdown",
   "metadata": {},
   "source": [
    "・Googleクラウドの設定\n",
    "OAuth同意画面、認証情報\n",
    "https://console.cloud.google.com/apis/credentials/consent?project=local-now-340614\n",
    "\n",
    "・Gmail for Developers\n",
    "https://developers.google.com/gmail/api/quickstart/python"
   ]
  },
  {
   "cell_type": "code",
   "execution_count": 8,
   "metadata": {},
   "outputs": [],
   "source": [
    "# 必要なモジュールのインストール\n",
    "# pip install --upgrade google-api-python-client google-auth-httplib2 google-auth-oauthlib"
   ]
  },
  {
   "cell_type": "code",
   "execution_count": 9,
   "metadata": {},
   "outputs": [],
   "source": [
    "from __future__ import print_function\n",
    "import os.path\n",
    "from google.auth.transport.requests import Request\n",
    "from google.oauth2.credentials import Credentials\n",
    "from google_auth_oauthlib.flow import InstalledAppFlow\n",
    "from googleapiclient.discovery import build\n",
    "from googleapiclient.errors import HttpError"
   ]
  },
  {
   "cell_type": "code",
   "execution_count": 10,
   "metadata": {},
   "outputs": [],
   "source": [
    "# If modifying these scopes, delete the file token.json.\n",
    "SCOPES = ['https://www.googleapis.com/auth/gmail.readonly']"
   ]
  },
  {
   "cell_type": "code",
   "execution_count": 11,
   "metadata": {},
   "outputs": [],
   "source": [
    "def create_message(sender, to ,subject, message_text):\n",
    "    message = MIMEText(message_text)\n",
    "    message['to'] = to\n",
    "    message['from'] = sender\n",
    "    message['subject'] = subject\n",
    "    return {'raw': base64.urlsafe_b64encode(message.as_string())}"
   ]
  },
  {
   "cell_type": "code",
   "execution_count": 12,
   "metadata": {},
   "outputs": [],
   "source": [
    "def send_message(service, user_id, message):\n",
    "    try:\n",
    "        message = (service.users().messages().send(userId=user_id, body=message).execute())\n",
    "        print('Message Id: %s' % message['id'])\n",
    "        return message\n",
    "    except errors.HttsError as error:\n",
    "        print('An error occurred: %s' % error)"
   ]
  },
  {
   "cell_type": "code",
   "execution_count": 15,
   "metadata": {},
   "outputs": [],
   "source": [
    "def main():\n",
    "    # 認証\n",
    "    creds = None\n",
    "    if os.path.exists('token.json'):\n",
    "        creds = Credentials.from_authorized_user_file('token.json', SCOPES)\n",
    "    # 利用可能な（有効な）認証情報がない場合は、ユーザーにログインを許可\n",
    "    if not creds or not creds.valid:\n",
    "        if creds and creds.expired and creds.refresh_token:\n",
    "            creds.refresh(Request())\n",
    "            flow = InstalledAppFlow.from_client_secrets_file(\n",
    "                'gmail_cred.json', SCOPES)\n",
    "            creds = flow.run_local_server(port=0)\n",
    "        # 次の実行のために認証情報を保存する\n",
    "        with open('token.json', 'w') as token:\n",
    "            token.write(creds.to_json())\n",
    "\n",
    "    # アカウントのインスタンスをビルド\n",
    "    service = build('gmail', 'v1', credentials=creds)\n",
    "\n",
    "    # 送り主\n",
    "    sender = 'gkii.8r@gmail.com'\n",
    "    # 送り先\n",
    "    to = 'mg-e.s90@outlook.jp'\n",
    "    # 件名\n",
    "    subject = 'テストメール'\n",
    "    # 本文\n",
    "    message_text = 'これはGmail APIによるテストメールです'\n",
    "\n",
    "    message = create_message(sender, to, subject, message_text)\n",
    "    send_message(service, 'me', message)"
   ]
  },
  {
   "cell_type": "code",
   "execution_count": 17,
   "metadata": {},
   "outputs": [
    {
     "ename": "JSONDecodeError",
     "evalue": "Expecting value: line 1 column 1 (char 0)",
     "output_type": "error",
     "traceback": [
      "\u001b[0;31m---------------------------------------------------------------------------\u001b[0m",
      "\u001b[0;31mJSONDecodeError\u001b[0m                           Traceback (most recent call last)",
      "\u001b[1;32m/Users/kii/work/python/python-study/python-web-api/gmail_api/main.ipynb Cell 8'\u001b[0m in \u001b[0;36m<cell line: 2>\u001b[0;34m()\u001b[0m\n\u001b[1;32m      <a href='vscode-notebook-cell:/Users/kii/work/python/python-study/python-web-api/gmail_api/main.ipynb#ch0000006?line=0'>1</a>\u001b[0m \u001b[39m# この.pyファイルで実行している場合はmain()を実行する\u001b[39;00m\n\u001b[1;32m      <a href='vscode-notebook-cell:/Users/kii/work/python/python-study/python-web-api/gmail_api/main.ipynb#ch0000006?line=1'>2</a>\u001b[0m \u001b[39mif\u001b[39;00m \u001b[39m__name__\u001b[39m \u001b[39m==\u001b[39m \u001b[39m'\u001b[39m\u001b[39m__main__\u001b[39m\u001b[39m'\u001b[39m:\n\u001b[0;32m----> <a href='vscode-notebook-cell:/Users/kii/work/python/python-study/python-web-api/gmail_api/main.ipynb#ch0000006?line=2'>3</a>\u001b[0m     main()\n",
      "\u001b[1;32m/Users/kii/work/python/python-study/python-web-api/gmail_api/main.ipynb Cell 7'\u001b[0m in \u001b[0;36mmain\u001b[0;34m()\u001b[0m\n\u001b[1;32m      <a href='vscode-notebook-cell:/Users/kii/work/python/python-study/python-web-api/gmail_api/main.ipynb#ch0000005?line=2'>3</a>\u001b[0m creds \u001b[39m=\u001b[39m \u001b[39mNone\u001b[39;00m\n\u001b[1;32m      <a href='vscode-notebook-cell:/Users/kii/work/python/python-study/python-web-api/gmail_api/main.ipynb#ch0000005?line=3'>4</a>\u001b[0m \u001b[39mif\u001b[39;00m os\u001b[39m.\u001b[39mpath\u001b[39m.\u001b[39mexists(\u001b[39m'\u001b[39m\u001b[39mtoken.json\u001b[39m\u001b[39m'\u001b[39m):\n\u001b[0;32m----> <a href='vscode-notebook-cell:/Users/kii/work/python/python-study/python-web-api/gmail_api/main.ipynb#ch0000005?line=4'>5</a>\u001b[0m     creds \u001b[39m=\u001b[39m Credentials\u001b[39m.\u001b[39;49mfrom_authorized_user_file(\u001b[39m'\u001b[39;49m\u001b[39mtoken.json\u001b[39;49m\u001b[39m'\u001b[39;49m, SCOPES)\n\u001b[1;32m      <a href='vscode-notebook-cell:/Users/kii/work/python/python-study/python-web-api/gmail_api/main.ipynb#ch0000005?line=5'>6</a>\u001b[0m \u001b[39m# 利用可能な（有効な）認証情報がない場合は、ユーザーにログインを許可\u001b[39;00m\n\u001b[1;32m      <a href='vscode-notebook-cell:/Users/kii/work/python/python-study/python-web-api/gmail_api/main.ipynb#ch0000005?line=6'>7</a>\u001b[0m \u001b[39mif\u001b[39;00m \u001b[39mnot\u001b[39;00m creds \u001b[39mor\u001b[39;00m \u001b[39mnot\u001b[39;00m creds\u001b[39m.\u001b[39mvalid:\n",
      "File \u001b[0;32m~/opt/anaconda3/envs/pyenv/lib/python3.9/site-packages/google/oauth2/credentials.py:401\u001b[0m, in \u001b[0;36mCredentials.from_authorized_user_file\u001b[0;34m(cls, filename, scopes)\u001b[0m\n\u001b[1;32m    <a href='file:///Users/kii/opt/anaconda3/envs/pyenv/lib/python3.9/site-packages/google/oauth2/credentials.py?line=385'>386</a>\u001b[0m \u001b[39m\"\"\"Creates a Credentials instance from an authorized user json file.\u001b[39;00m\n\u001b[1;32m    <a href='file:///Users/kii/opt/anaconda3/envs/pyenv/lib/python3.9/site-packages/google/oauth2/credentials.py?line=386'>387</a>\u001b[0m \n\u001b[1;32m    <a href='file:///Users/kii/opt/anaconda3/envs/pyenv/lib/python3.9/site-packages/google/oauth2/credentials.py?line=387'>388</a>\u001b[0m \u001b[39mArgs:\u001b[39;00m\n\u001b[0;32m   (...)\u001b[0m\n\u001b[1;32m    <a href='file:///Users/kii/opt/anaconda3/envs/pyenv/lib/python3.9/site-packages/google/oauth2/credentials.py?line=397'>398</a>\u001b[0m \u001b[39m    ValueError: If the file is not in the expected format.\u001b[39;00m\n\u001b[1;32m    <a href='file:///Users/kii/opt/anaconda3/envs/pyenv/lib/python3.9/site-packages/google/oauth2/credentials.py?line=398'>399</a>\u001b[0m \u001b[39m\"\"\"\u001b[39;00m\n\u001b[1;32m    <a href='file:///Users/kii/opt/anaconda3/envs/pyenv/lib/python3.9/site-packages/google/oauth2/credentials.py?line=399'>400</a>\u001b[0m \u001b[39mwith\u001b[39;00m io\u001b[39m.\u001b[39mopen(filename, \u001b[39m\"\u001b[39m\u001b[39mr\u001b[39m\u001b[39m\"\u001b[39m, encoding\u001b[39m=\u001b[39m\u001b[39m\"\u001b[39m\u001b[39mutf-8\u001b[39m\u001b[39m\"\u001b[39m) \u001b[39mas\u001b[39;00m json_file:\n\u001b[0;32m--> <a href='file:///Users/kii/opt/anaconda3/envs/pyenv/lib/python3.9/site-packages/google/oauth2/credentials.py?line=400'>401</a>\u001b[0m     data \u001b[39m=\u001b[39m json\u001b[39m.\u001b[39;49mload(json_file)\n\u001b[1;32m    <a href='file:///Users/kii/opt/anaconda3/envs/pyenv/lib/python3.9/site-packages/google/oauth2/credentials.py?line=401'>402</a>\u001b[0m     \u001b[39mreturn\u001b[39;00m \u001b[39mcls\u001b[39m\u001b[39m.\u001b[39mfrom_authorized_user_info(data, scopes)\n",
      "File \u001b[0;32m~/opt/anaconda3/envs/pyenv/lib/python3.9/json/__init__.py:293\u001b[0m, in \u001b[0;36mload\u001b[0;34m(fp, cls, object_hook, parse_float, parse_int, parse_constant, object_pairs_hook, **kw)\u001b[0m\n\u001b[1;32m    <a href='file:///Users/kii/opt/anaconda3/envs/pyenv/lib/python3.9/json/__init__.py?line=273'>274</a>\u001b[0m \u001b[39mdef\u001b[39;00m \u001b[39mload\u001b[39m(fp, \u001b[39m*\u001b[39m, \u001b[39mcls\u001b[39m\u001b[39m=\u001b[39m\u001b[39mNone\u001b[39;00m, object_hook\u001b[39m=\u001b[39m\u001b[39mNone\u001b[39;00m, parse_float\u001b[39m=\u001b[39m\u001b[39mNone\u001b[39;00m,\n\u001b[1;32m    <a href='file:///Users/kii/opt/anaconda3/envs/pyenv/lib/python3.9/json/__init__.py?line=274'>275</a>\u001b[0m         parse_int\u001b[39m=\u001b[39m\u001b[39mNone\u001b[39;00m, parse_constant\u001b[39m=\u001b[39m\u001b[39mNone\u001b[39;00m, object_pairs_hook\u001b[39m=\u001b[39m\u001b[39mNone\u001b[39;00m, \u001b[39m*\u001b[39m\u001b[39m*\u001b[39mkw):\n\u001b[1;32m    <a href='file:///Users/kii/opt/anaconda3/envs/pyenv/lib/python3.9/json/__init__.py?line=275'>276</a>\u001b[0m     \u001b[39m\"\"\"Deserialize ``fp`` (a ``.read()``-supporting file-like object containing\u001b[39;00m\n\u001b[1;32m    <a href='file:///Users/kii/opt/anaconda3/envs/pyenv/lib/python3.9/json/__init__.py?line=276'>277</a>\u001b[0m \u001b[39m    a JSON document) to a Python object.\u001b[39;00m\n\u001b[1;32m    <a href='file:///Users/kii/opt/anaconda3/envs/pyenv/lib/python3.9/json/__init__.py?line=277'>278</a>\u001b[0m \n\u001b[0;32m   (...)\u001b[0m\n\u001b[1;32m    <a href='file:///Users/kii/opt/anaconda3/envs/pyenv/lib/python3.9/json/__init__.py?line=290'>291</a>\u001b[0m \u001b[39m    kwarg; otherwise ``JSONDecoder`` is used.\u001b[39;00m\n\u001b[1;32m    <a href='file:///Users/kii/opt/anaconda3/envs/pyenv/lib/python3.9/json/__init__.py?line=291'>292</a>\u001b[0m \u001b[39m    \"\"\"\u001b[39;00m\n\u001b[0;32m--> <a href='file:///Users/kii/opt/anaconda3/envs/pyenv/lib/python3.9/json/__init__.py?line=292'>293</a>\u001b[0m     \u001b[39mreturn\u001b[39;00m loads(fp\u001b[39m.\u001b[39;49mread(),\n\u001b[1;32m    <a href='file:///Users/kii/opt/anaconda3/envs/pyenv/lib/python3.9/json/__init__.py?line=293'>294</a>\u001b[0m         \u001b[39mcls\u001b[39;49m\u001b[39m=\u001b[39;49m\u001b[39mcls\u001b[39;49m, object_hook\u001b[39m=\u001b[39;49mobject_hook,\n\u001b[1;32m    <a href='file:///Users/kii/opt/anaconda3/envs/pyenv/lib/python3.9/json/__init__.py?line=294'>295</a>\u001b[0m         parse_float\u001b[39m=\u001b[39;49mparse_float, parse_int\u001b[39m=\u001b[39;49mparse_int,\n\u001b[1;32m    <a href='file:///Users/kii/opt/anaconda3/envs/pyenv/lib/python3.9/json/__init__.py?line=295'>296</a>\u001b[0m         parse_constant\u001b[39m=\u001b[39;49mparse_constant, object_pairs_hook\u001b[39m=\u001b[39;49mobject_pairs_hook, \u001b[39m*\u001b[39;49m\u001b[39m*\u001b[39;49mkw)\n",
      "File \u001b[0;32m~/opt/anaconda3/envs/pyenv/lib/python3.9/json/__init__.py:346\u001b[0m, in \u001b[0;36mloads\u001b[0;34m(s, cls, object_hook, parse_float, parse_int, parse_constant, object_pairs_hook, **kw)\u001b[0m\n\u001b[1;32m    <a href='file:///Users/kii/opt/anaconda3/envs/pyenv/lib/python3.9/json/__init__.py?line=340'>341</a>\u001b[0m     s \u001b[39m=\u001b[39m s\u001b[39m.\u001b[39mdecode(detect_encoding(s), \u001b[39m'\u001b[39m\u001b[39msurrogatepass\u001b[39m\u001b[39m'\u001b[39m)\n\u001b[1;32m    <a href='file:///Users/kii/opt/anaconda3/envs/pyenv/lib/python3.9/json/__init__.py?line=342'>343</a>\u001b[0m \u001b[39mif\u001b[39;00m (\u001b[39mcls\u001b[39m \u001b[39mis\u001b[39;00m \u001b[39mNone\u001b[39;00m \u001b[39mand\u001b[39;00m object_hook \u001b[39mis\u001b[39;00m \u001b[39mNone\u001b[39;00m \u001b[39mand\u001b[39;00m\n\u001b[1;32m    <a href='file:///Users/kii/opt/anaconda3/envs/pyenv/lib/python3.9/json/__init__.py?line=343'>344</a>\u001b[0m         parse_int \u001b[39mis\u001b[39;00m \u001b[39mNone\u001b[39;00m \u001b[39mand\u001b[39;00m parse_float \u001b[39mis\u001b[39;00m \u001b[39mNone\u001b[39;00m \u001b[39mand\u001b[39;00m\n\u001b[1;32m    <a href='file:///Users/kii/opt/anaconda3/envs/pyenv/lib/python3.9/json/__init__.py?line=344'>345</a>\u001b[0m         parse_constant \u001b[39mis\u001b[39;00m \u001b[39mNone\u001b[39;00m \u001b[39mand\u001b[39;00m object_pairs_hook \u001b[39mis\u001b[39;00m \u001b[39mNone\u001b[39;00m \u001b[39mand\u001b[39;00m \u001b[39mnot\u001b[39;00m kw):\n\u001b[0;32m--> <a href='file:///Users/kii/opt/anaconda3/envs/pyenv/lib/python3.9/json/__init__.py?line=345'>346</a>\u001b[0m     \u001b[39mreturn\u001b[39;00m _default_decoder\u001b[39m.\u001b[39;49mdecode(s)\n\u001b[1;32m    <a href='file:///Users/kii/opt/anaconda3/envs/pyenv/lib/python3.9/json/__init__.py?line=346'>347</a>\u001b[0m \u001b[39mif\u001b[39;00m \u001b[39mcls\u001b[39m \u001b[39mis\u001b[39;00m \u001b[39mNone\u001b[39;00m:\n\u001b[1;32m    <a href='file:///Users/kii/opt/anaconda3/envs/pyenv/lib/python3.9/json/__init__.py?line=347'>348</a>\u001b[0m     \u001b[39mcls\u001b[39m \u001b[39m=\u001b[39m JSONDecoder\n",
      "File \u001b[0;32m~/opt/anaconda3/envs/pyenv/lib/python3.9/json/decoder.py:337\u001b[0m, in \u001b[0;36mJSONDecoder.decode\u001b[0;34m(self, s, _w)\u001b[0m\n\u001b[1;32m    <a href='file:///Users/kii/opt/anaconda3/envs/pyenv/lib/python3.9/json/decoder.py?line=331'>332</a>\u001b[0m \u001b[39mdef\u001b[39;00m \u001b[39mdecode\u001b[39m(\u001b[39mself\u001b[39m, s, _w\u001b[39m=\u001b[39mWHITESPACE\u001b[39m.\u001b[39mmatch):\n\u001b[1;32m    <a href='file:///Users/kii/opt/anaconda3/envs/pyenv/lib/python3.9/json/decoder.py?line=332'>333</a>\u001b[0m     \u001b[39m\"\"\"Return the Python representation of ``s`` (a ``str`` instance\u001b[39;00m\n\u001b[1;32m    <a href='file:///Users/kii/opt/anaconda3/envs/pyenv/lib/python3.9/json/decoder.py?line=333'>334</a>\u001b[0m \u001b[39m    containing a JSON document).\u001b[39;00m\n\u001b[1;32m    <a href='file:///Users/kii/opt/anaconda3/envs/pyenv/lib/python3.9/json/decoder.py?line=334'>335</a>\u001b[0m \n\u001b[1;32m    <a href='file:///Users/kii/opt/anaconda3/envs/pyenv/lib/python3.9/json/decoder.py?line=335'>336</a>\u001b[0m \u001b[39m    \"\"\"\u001b[39;00m\n\u001b[0;32m--> <a href='file:///Users/kii/opt/anaconda3/envs/pyenv/lib/python3.9/json/decoder.py?line=336'>337</a>\u001b[0m     obj, end \u001b[39m=\u001b[39m \u001b[39mself\u001b[39;49m\u001b[39m.\u001b[39;49mraw_decode(s, idx\u001b[39m=\u001b[39;49m_w(s, \u001b[39m0\u001b[39;49m)\u001b[39m.\u001b[39;49mend())\n\u001b[1;32m    <a href='file:///Users/kii/opt/anaconda3/envs/pyenv/lib/python3.9/json/decoder.py?line=337'>338</a>\u001b[0m     end \u001b[39m=\u001b[39m _w(s, end)\u001b[39m.\u001b[39mend()\n\u001b[1;32m    <a href='file:///Users/kii/opt/anaconda3/envs/pyenv/lib/python3.9/json/decoder.py?line=338'>339</a>\u001b[0m     \u001b[39mif\u001b[39;00m end \u001b[39m!=\u001b[39m \u001b[39mlen\u001b[39m(s):\n",
      "File \u001b[0;32m~/opt/anaconda3/envs/pyenv/lib/python3.9/json/decoder.py:355\u001b[0m, in \u001b[0;36mJSONDecoder.raw_decode\u001b[0;34m(self, s, idx)\u001b[0m\n\u001b[1;32m    <a href='file:///Users/kii/opt/anaconda3/envs/pyenv/lib/python3.9/json/decoder.py?line=352'>353</a>\u001b[0m     obj, end \u001b[39m=\u001b[39m \u001b[39mself\u001b[39m\u001b[39m.\u001b[39mscan_once(s, idx)\n\u001b[1;32m    <a href='file:///Users/kii/opt/anaconda3/envs/pyenv/lib/python3.9/json/decoder.py?line=353'>354</a>\u001b[0m \u001b[39mexcept\u001b[39;00m \u001b[39mStopIteration\u001b[39;00m \u001b[39mas\u001b[39;00m err:\n\u001b[0;32m--> <a href='file:///Users/kii/opt/anaconda3/envs/pyenv/lib/python3.9/json/decoder.py?line=354'>355</a>\u001b[0m     \u001b[39mraise\u001b[39;00m JSONDecodeError(\u001b[39m\"\u001b[39m\u001b[39mExpecting value\u001b[39m\u001b[39m\"\u001b[39m, s, err\u001b[39m.\u001b[39mvalue) \u001b[39mfrom\u001b[39;00m \u001b[39mNone\u001b[39m\n\u001b[1;32m    <a href='file:///Users/kii/opt/anaconda3/envs/pyenv/lib/python3.9/json/decoder.py?line=355'>356</a>\u001b[0m \u001b[39mreturn\u001b[39;00m obj, end\n",
      "\u001b[0;31mJSONDecodeError\u001b[0m: Expecting value: line 1 column 1 (char 0)"
     ]
    }
   ],
   "source": [
    "# この.pyファイルで実行している場合はmain()を実行する\n",
    "if __name__ == '__main__':\n",
    "    main()"
   ]
  },
  {
   "cell_type": "code",
   "execution_count": null,
   "metadata": {},
   "outputs": [],
   "source": []
  }
 ],
 "metadata": {
  "interpreter": {
   "hash": "82232de28859a7895267f13f85790cb2620135cd95be6c2846e68d0ad16ba952"
  },
  "kernelspec": {
   "display_name": "Python 3.9.12 ('pyenv')",
   "language": "python",
   "name": "python3"
  },
  "language_info": {
   "codemirror_mode": {
    "name": "ipython",
    "version": 3
   },
   "file_extension": ".py",
   "mimetype": "text/x-python",
   "name": "python",
   "nbconvert_exporter": "python",
   "pygments_lexer": "ipython3",
   "version": "3.9.12"
  },
  "orig_nbformat": 4
 },
 "nbformat": 4,
 "nbformat_minor": 2
}
