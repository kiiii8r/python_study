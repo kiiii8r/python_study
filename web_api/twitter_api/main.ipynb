{
 "cells": [
  {
   "cell_type": "markdown",
   "metadata": {},
   "source": [
    "Twitter Developer Portal\n",
    "https://developer.twitter.com/en/portal/projects/1576488149152575488/apps/25617004/settings\n",
    "\n",
    "tweepy\n",
    "https://kurozumi.github.io/tweepy/getting_started.html#api\n",
    "\n",
    "tweepyの利用にはバージョンを上げる必要がある\n",
    "https://www.sassy-blog.com/entry/2022/02/21/223016#453---You-currently-have-Essential-access-which-includes-access-to-Twitter-API-v2-endpoints-only省略"
   ]
  },
  {
   "cell_type": "code",
   "execution_count": 27,
   "metadata": {},
   "outputs": [],
   "source": [
    "# jsonファイル読み込み\n",
    "import json\n",
    "with open('twitter.json') as f:\n",
    "    twitter_keys = json.load(f)\n",
    "\n",
    "consumer_key = twitter_keys['consumer_key']\n",
    "consumer_secret = twitter_keys['consumer_secret']\n",
    "access_token = twitter_keys['access_token']\n",
    "access_token_secret = twitter_keys['access_token_secret']"
   ]
  },
  {
   "cell_type": "code",
   "execution_count": 28,
   "metadata": {},
   "outputs": [],
   "source": [
    "import tweepy"
   ]
  },
  {
   "cell_type": "code",
   "execution_count": 29,
   "metadata": {},
   "outputs": [
    {
     "data": {
      "text/plain": [
       "<tweepy.api.API at 0x7fcdc2780160>"
      ]
     },
     "execution_count": 29,
     "metadata": {},
     "output_type": "execute_result"
    }
   ],
   "source": [
    "# 認証\n",
    "# APIへの認証\n",
    "auth = tweepy.OAuthHandler(consumer_key,consumer_secret)\n",
    "# Twitterアカウントへの認証\n",
    "auth.set_access_token(access_token, access_token_secret)\n",
    "\n",
    "# インスタンスを取得\n",
    "api = tweepy.API(auth)\n",
    "api"
   ]
  },
  {
   "cell_type": "code",
   "execution_count": null,
   "metadata": {},
   "outputs": [],
   "source": [
    "# タイムラインの取得\n",
    "public_tweets = api.home_timeline()\n",
    "for tweet in public_tweets:\n",
    "    print(tweet.text)"
   ]
  },
  {
   "cell_type": "code",
   "execution_count": 31,
   "metadata": {},
   "outputs": [],
   "source": [
    "# 自身の情報を取得　\n",
    "me = api.verify_credentials()"
   ]
  },
  {
   "cell_type": "code",
   "execution_count": 35,
   "metadata": {},
   "outputs": [
    {
     "data": {
      "text/plain": [
       "datetime.datetime(2009, 4, 20, 18, 34, 14, tzinfo=datetime.timezone.utc)"
      ]
     },
     "execution_count": 35,
     "metadata": {},
     "output_type": "execute_result"
    }
   ],
   "source": [
    "# フォローしているアカウントの情報を取得\n",
    "me.friends()[0].created_at"
   ]
  },
  {
   "cell_type": "code",
   "execution_count": 44,
   "metadata": {},
   "outputs": [],
   "source": [
    "user = api.get_user(screen_name= '@AndersonIT1')"
   ]
  },
  {
   "cell_type": "code",
   "execution_count": 48,
   "metadata": {},
   "outputs": [
    {
     "data": {
      "text/plain": [
       "{'url': {'urls': [{'url': 'https://t.co/P9IJjsaqJU',\n",
       "    'expanded_url': 'https://keneloper.com/',\n",
       "    'display_url': 'keneloper.com',\n",
       "    'indices': [0, 23]}]},\n",
       " 'description': {'urls': []}}"
      ]
     },
     "execution_count": 48,
     "metadata": {},
     "output_type": "execute_result"
    }
   ],
   "source": [
    "user.entities"
   ]
  },
  {
   "cell_type": "code",
   "execution_count": null,
   "metadata": {},
   "outputs": [],
   "source": []
  }
 ],
 "metadata": {
  "interpreter": {
   "hash": "82232de28859a7895267f13f85790cb2620135cd95be6c2846e68d0ad16ba952"
  },
  "kernelspec": {
   "display_name": "Python 3.9.12 ('pyenv')",
   "language": "python",
   "name": "python3"
  },
  "language_info": {
   "codemirror_mode": {
    "name": "ipython",
    "version": 3
   },
   "file_extension": ".py",
   "mimetype": "text/x-python",
   "name": "python",
   "nbconvert_exporter": "python",
   "pygments_lexer": "ipython3",
   "version": "3.9.12"
  },
  "orig_nbformat": 4
 },
 "nbformat": 4,
 "nbformat_minor": 2
}
