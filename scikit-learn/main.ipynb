{
 "cells": [
  {
   "cell_type": "code",
   "execution_count": 15,
   "metadata": {},
   "outputs": [],
   "source": [
    "import pandas as pd\n",
    "from sklearn.model_selection import train_test_split"
   ]
  },
  {
   "cell_type": "code",
   "execution_count": 16,
   "metadata": {},
   "outputs": [],
   "source": [
    "df = pd.read_csv('iris.csv')\n",
    "\n",
    "# 特徴量の列だけ抽出（X：特徴量なのは機械学習のコードの習慣）\n",
    "X = df[['SepalLength', 'SepalWidth', 'PetalLength', 'PetalWidth']]\n",
    "\n",
    "# 正解データの列だけ抽出\n",
    "y = df ['Species']\n",
    "\n",
    "# データを学習用と評価用に分ける\n",
    "# ・80％を学習用、20％を評価用に使う ←今回使用\n",
    "# ・クロスバリデーション：平均や多数決で決定　など\n",
    "\n",
    "# データ分割\n",
    "# 学習用の特徴量、評価用の特徴量、学習用の正解データ、評価用正解データ\n",
    "X_train, X_test, y_train, y_test = train_test_split(\n",
    "    # 20%を評価用、ランダム生成に規則性を付与(再現性を保つ)\n",
    "    X, y, test_size=0.2, random_state=77\n",
    ")"
   ]
  },
  {
   "cell_type": "code",
   "execution_count": 17,
   "metadata": {},
   "outputs": [],
   "source": [
    "# 分類用のモデル（回帰用のモデルなどもある：クラスを変えればモデルの種類が変わる）\n",
    "from sklearn.ensemble import RandomForestClassifier\n",
    "from sklearn.metrics import accuracy_score\n",
    "\n",
    "# 学習されていないモデルのオブジェクト\n",
    "clf = RandomForestClassifier(random_state=77)\n",
    "\n",
    "# 学習\n",
    "# 学習用のデータ（学習用の特徴量, 学習用の正解データ）\n",
    "clf.fit(X_train, y_train)\n",
    "\n",
    "# 予測\n",
    "# 予測結果の一覧を出力\n",
    "pred = clf.predict(X_test)\n",
    "\n",
    "# 評価\n",
    "# 正解率 = （評価用の正解データ, 予測結果)\n",
    "accuracy = accuracy_score(y_test, pred)"
   ]
  },
  {
   "cell_type": "markdown",
   "metadata": {},
   "source": [
    "### 注意点\n",
    "◆特徴量を文字列で行う場合\n",
    "\n",
    "    文字列を数値に置き換える\n",
    "\n",
    "    ・label encodeing（優先だが、モデルを選ぶ）\n",
    "    　文字列と数値を 1:1 で対応\n",
    "    　　赤 → 0\n",
    "    　　青 → 1\n",
    "    　　緑 → 2\n",
    "\n",
    "    ・one-hot encodeing\n",
    "    　フラグが立っているような列\n",
    "    　　　  　赤　青　緑\n",
    "    　　赤 →　１　０　０\n",
    "    　　青 →　０　１　０\n",
    "    　　緑 →　０　０　１\n",
    "\n",
    "skleanにも関数があるが使いにくい\n",
    "　→ Category encordersというライブラリが使いやすい：https://contrib.scikit-learn.org/category_encoders/"
   ]
  },
  {
   "cell_type": "markdown",
   "metadata": {},
   "source": [
    "◆リーク\n",
    "\n",
    "    本来与えられていないはずのデータが特徴量に入ってしまうなどし、不正に精度が上がること\n",
    "    例：indexが特徴量に入ってしまい、大きさにより分類してしまった"
   ]
  }
 ],
 "metadata": {
  "interpreter": {
   "hash": "82232de28859a7895267f13f85790cb2620135cd95be6c2846e68d0ad16ba952"
  },
  "kernelspec": {
   "display_name": "Python 3.9.12 ('pyenv')",
   "language": "python",
   "name": "python3"
  },
  "language_info": {
   "codemirror_mode": {
    "name": "ipython",
    "version": 3
   },
   "file_extension": ".py",
   "mimetype": "text/x-python",
   "name": "python",
   "nbconvert_exporter": "python",
   "pygments_lexer": "ipython3",
   "version": "3.9.12"
  },
  "orig_nbformat": 4
 },
 "nbformat": 4,
 "nbformat_minor": 2
}
