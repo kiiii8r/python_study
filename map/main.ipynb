{
 "cells": [
  {
   "cell_type": "code",
   "execution_count": null,
   "metadata": {},
   "outputs": [],
   "source": [
    "import json\n",
    "import folium\n",
    "import pandas as pd\n",
    "from folium.plugins import MarkerCluster\n",
    "from folium.features import CustomIcon\n",
    "import openrouteservice\n",
    "from branca.element import Figure\n",
    "from openrouteservice import convert\n",
    "\n",
    "# JSONファイルの読み込み\n",
    "with open('secret.json') as f:\n",
    "    keys = json.load(f)\n",
    "\n",
    "API_KEY = keys['key']\n",
    "client = openrouteservice.Client(key=API_KEY)\n",
    "\n",
    "# このCSVには   、県庁所在地の緯度・経度がlatitudeカラムとlongitudeカラムに入っている。\n",
    "df_prefecture = pd.read_csv(\"pref_lat_lon.csv\")\n",
    "\n",
    "def visualize_locations_with_marker_cluster(df, zoom=4):\n",
    "    \"\"\"日本を拡大した地図に、pandasデータフレームのlatitudeおよびlongitudeカラムをプロットする。\n",
    "    \"\"\"\n",
    "\n",
    "    # 図の大きさを指定する。\n",
    "    f = folium.Figure(width=1000, height=500)\n",
    "\n",
    "    # 初期表示の中心の座標を指定して地図を作成する。\n",
    "    center_lat=34.686567\n",
    "    center_lon=135.52000\n",
    "    m = folium.Map([center_lat,center_lon], zoom_start=zoom).add_to(f)\n",
    "\n",
    "    # 縮尺によって、マーカーがまとめられるように設定する。\n",
    "    marker_cluster = MarkerCluster().add_to(m)\n",
    "\n",
    "    # icon = CustomIcon(\n",
    "    # icon_image = 'nico.png'\n",
    "    # ,icon_size = (55, 65)\n",
    "    # ,icon_anchor = (30, 30)\n",
    "    # ,popup_anchor = (3, 3)\n",
    "    # )\n",
    "\n",
    "    p1 = 35.689185,139.691648\n",
    "    p2 = 35.447505,139.642347\n",
    "    p1r = tuple(reversed(p1))\n",
    "    p2r = tuple(reversed(p2))\n",
    "\n",
    "    # 経路計算 (Directions V2)\n",
    "    routedict = client.directions((p1r, p2r))\n",
    "    geom = routedict[\"routes\"][0][\"geometry\"]\n",
    "    decoded = convert.decode_polyline(geom)\n",
    "\n",
    "    def reverse_lat_long(list_of_lat_long):\n",
    "        \"\"\"緯度経度をひっくり返す\"\"\"\n",
    "        return [(p[1], p[0]) for p in list_of_lat_long]\n",
    "\n",
    "    coord = reverse_lat_long(decoded[\"coordinates\"])\n",
    "\n",
    "    marker_cluster = folium.vector_layers.PolyLine(locations=coord).add_to(marker_cluster)\n",
    "        \n",
    "    # データフレームの全ての行のマーカーを作成する。\n",
    "    for i in range(0,len(df)):\n",
    "        folium.Marker(\n",
    "            location=[df[\"lat\"][i],df[\"lon\"][i]],\n",
    "            popup=df[\"pref_name\"],\n",
    "            profile=\"foot-walking\"\n",
    "            # icon = icon\n",
    "            ).add_to(marker_cluster)\n",
    "        \n",
    "    return m\n",
    "    \n",
    "visualize_locations_with_marker_cluster(df_prefecture, zoom=3)"
   ]
  },
  {
   "cell_type": "code",
   "execution_count": null,
   "metadata": {},
   "outputs": [
    {
     "data": {
      "text/plain": [
       "{'distance': 33936.1, 'duration': 2193.6}"
      ]
     },
     "execution_count": 36,
     "metadata": {},
     "output_type": "execute_result"
    }
   ],
   "source": [
    "routedict[\"routes\"][0]['summary']"
   ]
  },
  {
   "cell_type": "code",
   "execution_count": null,
   "metadata": {},
   "outputs": [],
   "source": [
    "from pyrosm.data import sources\n",
    "\n",
    "sources.available.keys()\n",
    "sources.asia.japan.available"
   ]
  }
 ],
 "metadata": {
  "interpreter": {
   "hash": "82232de28859a7895267f13f85790cb2620135cd95be6c2846e68d0ad16ba952"
  },
  "kernelspec": {
   "display_name": "Python 3.9.12 ('pyenv')",
   "language": "python",
   "name": "python3"
  },
  "language_info": {
   "codemirror_mode": {
    "name": "ipython",
    "version": 3
   },
   "file_extension": ".py",
   "mimetype": "text/x-python",
   "name": "python",
   "nbconvert_exporter": "python",
   "pygments_lexer": "ipython3",
   "version": "3.9.12"
  },
  "orig_nbformat": 4
 },
 "nbformat": 4,
 "nbformat_minor": 2
}
