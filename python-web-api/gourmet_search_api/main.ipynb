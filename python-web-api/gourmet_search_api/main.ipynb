{
 "cells": [
  {
   "cell_type": "markdown",
   "metadata": {},
   "source": [
    "ホットペッパーAPI：\n",
    "https://webservice.recruit.co.jp/doc/hotpepper/reference.html"
   ]
  },
  {
   "cell_type": "code",
   "execution_count": 4,
   "metadata": {},
   "outputs": [],
   "source": [
    "import requests"
   ]
  },
  {
   "cell_type": "code",
   "execution_count": 5,
   "metadata": {},
   "outputs": [],
   "source": [
    "# リクエストURL（エンドポイント）\n",
    "URL ='http://webservice.recruit.co.jp/hotpepper/gourmet/v1/'"
   ]
  },
  {
   "cell_type": "code",
   "execution_count": 6,
   "metadata": {},
   "outputs": [],
   "source": [
    "# APIキーを設置：基本的にはオープンにしない（pythonは定数がないので定数は大文字で明示する）\n",
    "API_KEY = '78f217f3120daf5c'\n",
    "\n",
    "with open('api.json') as f:\n",
    "    api_keys = json.load(f)\n",
    "\n",
    "API_KEY = api_keys['api_key']"
   ]
  },
  {
   "cell_type": "code",
   "execution_count": 25,
   "metadata": {},
   "outputs": [],
   "source": [
    "# リクエストパラメーターを定義\n",
    "params = {\n",
    "    'key': API_KEY,\n",
    "    'keyword': '沖縄',\n",
    "    'count': 100,\n",
    "    'format': 'json'\n",
    "}"
   ]
  },
  {
   "cell_type": "code",
   "execution_count": 27,
   "metadata": {},
   "outputs": [],
   "source": [
    "# 読み込み\n",
    "res = requests.get(URL, params)"
   ]
  },
  {
   "cell_type": "code",
   "execution_count": 28,
   "metadata": {},
   "outputs": [
    {
     "data": {
      "text/plain": [
       "200"
      ]
     },
     "execution_count": 28,
     "metadata": {},
     "output_type": "execute_result"
    }
   ],
   "source": [
    "# レスポンスのステータスコードを確認\n",
    "res.status_code"
   ]
  },
  {
   "cell_type": "code",
   "execution_count": 29,
   "metadata": {},
   "outputs": [],
   "source": [
    "# JSON形式で格納\n",
    "result = res.json()"
   ]
  },
  {
   "cell_type": "code",
   "execution_count": 30,
   "metadata": {},
   "outputs": [],
   "source": [
    "items = result['results']['shop']"
   ]
  },
  {
   "cell_type": "code",
   "execution_count": 31,
   "metadata": {},
   "outputs": [
    {
     "data": {
      "text/plain": [
       "100"
      ]
     },
     "execution_count": 31,
     "metadata": {},
     "output_type": "execute_result"
    }
   ],
   "source": [
    "# 取得数確認\n",
    "len(items)"
   ]
  },
  {
   "cell_type": "code",
   "execution_count": 34,
   "metadata": {},
   "outputs": [],
   "source": [
    "import pandas as pd"
   ]
  },
  {
   "cell_type": "code",
   "execution_count": 36,
   "metadata": {},
   "outputs": [],
   "source": [
    "# 取得してきたデータをデータフレームにする\n",
    "df = pd.DataFrame(items)"
   ]
  },
  {
   "cell_type": "code",
   "execution_count": 37,
   "metadata": {},
   "outputs": [
    {
     "data": {
      "text/plain": [
       "Index(['access', 'address', 'band', 'barrier_free', 'budget', 'budget_memo',\n",
       "       'capacity', 'card', 'catch', 'charter', 'child', 'close', 'coupon_urls',\n",
       "       'course', 'english', 'free_drink', 'free_food', 'genre', 'horigotatsu',\n",
       "       'id', 'karaoke', 'ktai_coupon', 'large_area', 'large_service_area',\n",
       "       'lat', 'lng', 'logo_image', 'lunch', 'middle_area', 'midnight',\n",
       "       'mobile_access', 'name', 'name_kana', 'non_smoking', 'open',\n",
       "       'other_memo', 'parking', 'party_capacity', 'pet', 'photo',\n",
       "       'private_room', 'service_area', 'shop_detail_memo', 'show',\n",
       "       'small_area', 'station_name', 'sub_genre', 'tatami', 'tv', 'urls',\n",
       "       'wedding', 'wifi'],\n",
       "      dtype='object')"
      ]
     },
     "execution_count": 37,
     "metadata": {},
     "output_type": "execute_result"
    }
   ],
   "source": [
    "# 全てのカラムを表示する\n",
    "df.columns"
   ]
  },
  {
   "cell_type": "code",
   "execution_count": 40,
   "metadata": {},
   "outputs": [],
   "source": [
    "# 必要なカラムのみ選択\n",
    "df = df[['name', 'address', 'wifi']]"
   ]
  },
  {
   "cell_type": "code",
   "execution_count": 42,
   "metadata": {},
   "outputs": [],
   "source": [
    "df.to_csv('hotpepper.csv', index=False)"
   ]
  },
  {
   "cell_type": "code",
   "execution_count": null,
   "metadata": {},
   "outputs": [],
   "source": []
  }
 ],
 "metadata": {
  "interpreter": {
   "hash": "6e3b034470570cd20b7de1cfbe14068d39f54646a4801e222cd4d7166f94b091"
  },
  "kernelspec": {
   "display_name": "Python 3.9.0 ('stdenv')",
   "language": "python",
   "name": "python3"
  },
  "language_info": {
   "codemirror_mode": {
    "name": "ipython",
    "version": 3
   },
   "file_extension": ".py",
   "mimetype": "text/x-python",
   "name": "python",
   "nbconvert_exporter": "python",
   "pygments_lexer": "ipython3",
   "version": "3.9.0"
  },
  "orig_nbformat": 4
 },
 "nbformat": 4,
 "nbformat_minor": 2
}
