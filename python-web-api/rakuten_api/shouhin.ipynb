{
 "cells": [
  {
   "cell_type": "markdown",
   "metadata": {},
   "source": [
    "楽天API（商品検索）：\n",
    "https://webservice.rakuten.co.jp/documentation/ichiba-product-search\n",
    "APIキー：\n",
    "1036322915713144338"
   ]
  },
  {
   "cell_type": "code",
   "execution_count": 1,
   "metadata": {},
   "outputs": [],
   "source": [
    "import requests\n",
    "import pandas as pd"
   ]
  },
  {
   "cell_type": "code",
   "execution_count": 2,
   "metadata": {},
   "outputs": [],
   "source": [
    "REQUEST_URL = 'https://app.rakuten.co.jp/services/api/IchibaItem/Search/20170706'\n",
    "APP_ID = '1036322915713144338'"
   ]
  },
  {
   "cell_type": "code",
   "execution_count": 3,
   "metadata": {},
   "outputs": [],
   "source": [
    "params = {\n",
    "    'applicationId': APP_ID,\n",
    "    'format': 'json',\n",
    "    'keyword': 'バスローブ',\n",
    "    'minPrice': 10000\n",
    "}"
   ]
  },
  {
   "cell_type": "code",
   "execution_count": 4,
   "metadata": {},
   "outputs": [],
   "source": [
    "res = requests.get(REQUEST_URL, params)"
   ]
  },
  {
   "cell_type": "code",
   "execution_count": 13,
   "metadata": {},
   "outputs": [
    {
     "data": {
      "text/plain": [
       "200"
      ]
     },
     "execution_count": 13,
     "metadata": {},
     "output_type": "execute_result"
    }
   ],
   "source": [
    "res.status_code"
   ]
  },
  {
   "cell_type": "code",
   "execution_count": 14,
   "metadata": {},
   "outputs": [],
   "source": [
    "result = res.json()"
   ]
  },
  {
   "cell_type": "code",
   "execution_count": 20,
   "metadata": {},
   "outputs": [],
   "source": [
    "items = result['Items']"
   ]
  },
  {
   "cell_type": "code",
   "execution_count": 23,
   "metadata": {},
   "outputs": [
    {
     "data": {
      "text/plain": [
       "30"
      ]
     },
     "execution_count": 23,
     "metadata": {},
     "output_type": "execute_result"
    }
   ],
   "source": [
    "len(items)"
   ]
  },
  {
   "cell_type": "code",
   "execution_count": 29,
   "metadata": {},
   "outputs": [
    {
     "data": {
      "text/html": [
       "<div>\n",
       "<style scoped>\n",
       "    .dataframe tbody tr th:only-of-type {\n",
       "        vertical-align: middle;\n",
       "    }\n",
       "\n",
       "    .dataframe tbody tr th {\n",
       "        vertical-align: top;\n",
       "    }\n",
       "\n",
       "    .dataframe thead th {\n",
       "        text-align: right;\n",
       "    }\n",
       "</style>\n",
       "<table border=\"1\" class=\"dataframe\">\n",
       "  <thead>\n",
       "    <tr style=\"text-align: right;\">\n",
       "      <th></th>\n",
       "      <th>Item</th>\n",
       "    </tr>\n",
       "  </thead>\n",
       "  <tbody>\n",
       "    <tr>\n",
       "      <th>0</th>\n",
       "      <td>{'affiliateRate': 4, 'affiliateUrl': '', 'asur...</td>\n",
       "    </tr>\n",
       "    <tr>\n",
       "      <th>1</th>\n",
       "      <td>{'affiliateRate': 4, 'affiliateUrl': '', 'asur...</td>\n",
       "    </tr>\n",
       "    <tr>\n",
       "      <th>2</th>\n",
       "      <td>{'affiliateRate': 4, 'affiliateUrl': '', 'asur...</td>\n",
       "    </tr>\n",
       "  </tbody>\n",
       "</table>\n",
       "</div>"
      ],
      "text/plain": [
       "                                                Item\n",
       "0  {'affiliateRate': 4, 'affiliateUrl': '', 'asur...\n",
       "1  {'affiliateRate': 4, 'affiliateUrl': '', 'asur...\n",
       "2  {'affiliateRate': 4, 'affiliateUrl': '', 'asur..."
      ]
     },
     "execution_count": 29,
     "metadata": {},
     "output_type": "execute_result"
    }
   ],
   "source": [
    "pd.DataFrame(items)[:3]"
   ]
  },
  {
   "cell_type": "code",
   "execution_count": 30,
   "metadata": {},
   "outputs": [],
   "source": [
    "items = [item['Item'] for item in items]"
   ]
  },
  {
   "cell_type": "code",
   "execution_count": 47,
   "metadata": {},
   "outputs": [],
   "source": [
    "df = pd.DataFrame(items)\n"
   ]
  },
  {
   "cell_type": "code",
   "execution_count": 48,
   "metadata": {},
   "outputs": [
    {
     "data": {
      "text/plain": [
       "Index(['affiliateRate', 'affiliateUrl', 'asurakuArea', 'asurakuClosingTime',\n",
       "       'asurakuFlag', 'availability', 'catchcopy', 'creditCardFlag', 'endTime',\n",
       "       'genreId', 'giftFlag', 'imageFlag', 'itemCaption', 'itemCode',\n",
       "       'itemName', 'itemPrice', 'itemUrl', 'mediumImageUrls', 'pointRate',\n",
       "       'pointRateEndTime', 'pointRateStartTime', 'postageFlag',\n",
       "       'reviewAverage', 'reviewCount', 'shipOverseasArea', 'shipOverseasFlag',\n",
       "       'shopAffiliateUrl', 'shopCode', 'shopName', 'shopOfTheYearFlag',\n",
       "       'shopUrl', 'smallImageUrls', 'startTime', 'tagIds', 'taxFlag'],\n",
       "      dtype='object')"
      ]
     },
     "execution_count": 48,
     "metadata": {},
     "output_type": "execute_result"
    }
   ],
   "source": [
    "df.columns"
   ]
  },
  {
   "cell_type": "code",
   "execution_count": 54,
   "metadata": {},
   "outputs": [],
   "source": [
    "columns = ['itemCode','itemName', 'itemPrice', 'itemUrl','availability', 'catchcopy', 'itemCaption', 'reviewAvera≈åge', 'reviewCount', 'shopCode', 'shopName','shopUrl']"
   ]
  },
  {
   "cell_type": "code",
   "execution_count": 71,
   "metadata": {},
   "outputs": [],
   "source": [
    "df = df[columns]"
   ]
  },
  {
   "cell_type": "code",
   "execution_count": 72,
   "metadata": {},
   "outputs": [],
   "source": [
    "new_columns = ['商品コード','商品名', '価格', '商品URL','availability', 'catchcopy', 'itemCaption', 'レビュー平均点', 'レビュー数', 'shopCode', 'shopName','shopUrl']"
   ]
  },
  {
   "cell_type": "code",
   "execution_count": 73,
   "metadata": {},
   "outputs": [],
   "source": [
    "df.columns = new_columns"
   ]
  },
  {
   "cell_type": "code",
   "execution_count": 66,
   "metadata": {},
   "outputs": [
    {
     "data": {
      "text/plain": [
       "商品コード            object\n",
       "商品名              object\n",
       "価格                int64\n",
       "商品URL            object\n",
       "availability      int64\n",
       "catchcopy        object\n",
       "itemCaption      object\n",
       "レビュー平均点         float64\n",
       "レビュー数             int64\n",
       "shopCode         object\n",
       "shopName         object\n",
       "shopUrl          object\n",
       "dtype: object"
      ]
     },
     "execution_count": 66,
     "metadata": {},
     "output_type": "execute_result"
    }
   ],
   "source": [
    "df.dtypes"
   ]
  },
  {
   "cell_type": "code",
   "execution_count": 70,
   "metadata": {},
   "outputs": [],
   "source": [
    "# 価格でソートする\n",
    "# df.sort_values('価格', ascending=True)"
   ]
  },
  {
   "cell_type": "code",
   "execution_count": 74,
   "metadata": {},
   "outputs": [
    {
     "data": {
      "text/html": [
       "<div>\n",
       "<style scoped>\n",
       "    .dataframe tbody tr th:only-of-type {\n",
       "        vertical-align: middle;\n",
       "    }\n",
       "\n",
       "    .dataframe tbody tr th {\n",
       "        vertical-align: top;\n",
       "    }\n",
       "\n",
       "    .dataframe thead th {\n",
       "        text-align: right;\n",
       "    }\n",
       "</style>\n",
       "<table border=\"1\" class=\"dataframe\">\n",
       "  <thead>\n",
       "    <tr style=\"text-align: right;\">\n",
       "      <th></th>\n",
       "      <th>価格</th>\n",
       "      <th>availability</th>\n",
       "      <th>レビュー平均点</th>\n",
       "      <th>レビュー数</th>\n",
       "    </tr>\n",
       "  </thead>\n",
       "  <tbody>\n",
       "    <tr>\n",
       "      <th>count</th>\n",
       "      <td>30.000000</td>\n",
       "      <td>30.0</td>\n",
       "      <td>30.000000</td>\n",
       "      <td>30.000000</td>\n",
       "    </tr>\n",
       "    <tr>\n",
       "      <th>mean</th>\n",
       "      <td>20192.666667</td>\n",
       "      <td>1.0</td>\n",
       "      <td>3.396333</td>\n",
       "      <td>28.600000</td>\n",
       "    </tr>\n",
       "    <tr>\n",
       "      <th>std</th>\n",
       "      <td>17530.995002</td>\n",
       "      <td>0.0</td>\n",
       "      <td>1.978651</td>\n",
       "      <td>62.987465</td>\n",
       "    </tr>\n",
       "    <tr>\n",
       "      <th>min</th>\n",
       "      <td>10360.000000</td>\n",
       "      <td>1.0</td>\n",
       "      <td>0.000000</td>\n",
       "      <td>0.000000</td>\n",
       "    </tr>\n",
       "    <tr>\n",
       "      <th>25%</th>\n",
       "      <td>12965.000000</td>\n",
       "      <td>1.0</td>\n",
       "      <td>2.500000</td>\n",
       "      <td>1.000000</td>\n",
       "    </tr>\n",
       "    <tr>\n",
       "      <th>50%</th>\n",
       "      <td>15800.000000</td>\n",
       "      <td>1.0</td>\n",
       "      <td>4.500000</td>\n",
       "      <td>5.000000</td>\n",
       "    </tr>\n",
       "    <tr>\n",
       "      <th>75%</th>\n",
       "      <td>19800.000000</td>\n",
       "      <td>1.0</td>\n",
       "      <td>4.670000</td>\n",
       "      <td>15.750000</td>\n",
       "    </tr>\n",
       "    <tr>\n",
       "      <th>max</th>\n",
       "      <td>103000.000000</td>\n",
       "      <td>1.0</td>\n",
       "      <td>5.000000</td>\n",
       "      <td>300.000000</td>\n",
       "    </tr>\n",
       "  </tbody>\n",
       "</table>\n",
       "</div>"
      ],
      "text/plain": [
       "                  価格  availability    レビュー平均点       レビュー数\n",
       "count      30.000000          30.0  30.000000   30.000000\n",
       "mean    20192.666667           1.0   3.396333   28.600000\n",
       "std     17530.995002           0.0   1.978651   62.987465\n",
       "min     10360.000000           1.0   0.000000    0.000000\n",
       "25%     12965.000000           1.0   2.500000    1.000000\n",
       "50%     15800.000000           1.0   4.500000    5.000000\n",
       "75%     19800.000000           1.0   4.670000   15.750000\n",
       "max    103000.000000           1.0   5.000000  300.000000"
      ]
     },
     "execution_count": 74,
     "metadata": {},
     "output_type": "execute_result"
    }
   ],
   "source": [
    "# よく使う統計量を算出\n",
    "df.describe()"
   ]
  },
  {
   "cell_type": "code",
   "execution_count": 77,
   "metadata": {},
   "outputs": [
    {
     "data": {
      "text/html": [
       "<div>\n",
       "<style scoped>\n",
       "    .dataframe tbody tr th:only-of-type {\n",
       "        vertical-align: middle;\n",
       "    }\n",
       "\n",
       "    .dataframe tbody tr th {\n",
       "        vertical-align: top;\n",
       "    }\n",
       "\n",
       "    .dataframe thead th {\n",
       "        text-align: right;\n",
       "    }\n",
       "</style>\n",
       "<table border=\"1\" class=\"dataframe\">\n",
       "  <thead>\n",
       "    <tr style=\"text-align: right;\">\n",
       "      <th></th>\n",
       "      <th>商品コード</th>\n",
       "      <th>商品名</th>\n",
       "      <th>価格</th>\n",
       "      <th>商品URL</th>\n",
       "      <th>availability</th>\n",
       "      <th>catchcopy</th>\n",
       "      <th>itemCaption</th>\n",
       "      <th>レビュー平均点</th>\n",
       "      <th>レビュー数</th>\n",
       "      <th>shopCode</th>\n",
       "      <th>shopName</th>\n",
       "      <th>shopUrl</th>\n",
       "    </tr>\n",
       "  </thead>\n",
       "  <tbody>\n",
       "    <tr>\n",
       "      <th>0</th>\n",
       "      <td>oruta:10000711</td>\n",
       "      <td>【ポイント10倍】バスローブ 今治 S/M/Lサイズ HOTELALA タオル地 綿100％...</td>\n",
       "      <td>11200</td>\n",
       "      <td>https://item.rakuten.co.jp/oruta/imarobel/</td>\n",
       "      <td>1</td>\n",
       "      <td>＼楽天1位！／今治産 バスローブ レディース メンズ タオル地 今治 出産祝い 保温 無地 ...</td>\n",
       "      <td>サイズ Sサイズ：身長 約 150〜165cm Mサイズ：身長 約 165〜175cm Lサ...</td>\n",
       "      <td>4.56</td>\n",
       "      <td>41</td>\n",
       "      <td>oruta</td>\n",
       "      <td>トランパラン</td>\n",
       "      <td>https://www.rakuten.co.jp/oruta/</td>\n",
       "    </tr>\n",
       "    <tr>\n",
       "      <th>1</th>\n",
       "      <td>uchino-towelandbath:10017702</td>\n",
       "      <td>【Web限定カラー登場】レディース バスローブ 綿100% エアリータッチレディスローブ 速...</td>\n",
       "      <td>11000</td>\n",
       "      <td>https://item.rakuten.co.jp/uchino-towelandbath...</td>\n",
       "      <td>1</td>\n",
       "      <td>非常に細い撚りのない糸をパイルに使用し、高密度で極限まで薄く織り上げたバスローブ。羽毛のよう...</td>\n",
       "      <td>上質な日常 外から帰ってきて、ほっと一息つく空間を快適に過ごしていただきたいそんな思いのウェ...</td>\n",
       "      <td>4.78</td>\n",
       "      <td>99</td>\n",
       "      <td>uchino-towelandbath</td>\n",
       "      <td>UCHINO Online Shop</td>\n",
       "      <td>https://www.rakuten.co.jp/uchino-towelandbath/</td>\n",
       "    </tr>\n",
       "    <tr>\n",
       "      <th>3</th>\n",
       "      <td>cyberl2010:10000060</td>\n",
       "      <td>バスローブ 今治 ホテルタイプ scene 送料無料 (宅配) タオル地 今治タオル パイル...</td>\n",
       "      <td>12720</td>\n",
       "      <td>https://item.rakuten.co.jp/cyberl2010/0211-001...</td>\n",
       "      <td>1</td>\n",
       "      <td></td>\n",
       "      <td>サイズ 重さ S（身長150〜165cm、約840g） M（身長165〜175cm、約880...</td>\n",
       "      <td>4.50</td>\n",
       "      <td>300</td>\n",
       "      <td>cyberl2010</td>\n",
       "      <td>タオルショップ　ブルーム</td>\n",
       "      <td>https://www.rakuten.co.jp/cyberl2010/</td>\n",
       "    </tr>\n",
       "    <tr>\n",
       "      <th>4</th>\n",
       "      <td>bathlier:10029534</td>\n",
       "      <td>バスローブ レディース メンズ 速乾 軽量「Splendy スプレンディー ヤングカット（S...</td>\n",
       "      <td>12980</td>\n",
       "      <td>https://item.rakuten.co.jp/bathlier/bathrobe-7...</td>\n",
       "      <td>1</td>\n",
       "      <td>こんなに薄いのに保温性抜群！UVカット99％！出産祝いにも人気。G8オフィシャルギフト ボデ...</td>\n",
       "      <td>商品名 バスローブ「スプレンディー」ヤングカットローブ 商品説明 お風呂上がりを優雅に過ごす...</td>\n",
       "      <td>4.27</td>\n",
       "      <td>110</td>\n",
       "      <td>bathlier</td>\n",
       "      <td>お風呂のソムリエSHOPバスリエ</td>\n",
       "      <td>https://www.rakuten.co.jp/bathlier/</td>\n",
       "    </tr>\n",
       "    <tr>\n",
       "      <th>11</th>\n",
       "      <td>matsunamiki:10000206</td>\n",
       "      <td>楽天1位 松並木 バスローブ/ガウン 襟付き 男女兼用 日本製 綿100% 肌にやさしい 特...</td>\n",
       "      <td>17160</td>\n",
       "      <td>https://item.rakuten.co.jp/matsunamiki/380781/</td>\n",
       "      <td>1</td>\n",
       "      <td>バスローブ 襟付き 5重 ガーゼ 特許 無添加ガーゼ5枚重ね 男女兼用 着るだけで即吸水し肌...</td>\n",
       "      <td>ギフト対応サラサラふわふわ♪素適な着心地5重ガーゼバスローブ兼ガウン*5Gauze Bath...</td>\n",
       "      <td>4.72</td>\n",
       "      <td>152</td>\n",
       "      <td>matsunamiki</td>\n",
       "      <td>無添加ガーゼケット寝具工房松並木</td>\n",
       "      <td>https://www.rakuten.co.jp/matsunamiki/</td>\n",
       "    </tr>\n",
       "    <tr>\n",
       "      <th>12</th>\n",
       "      <td>uchino-towelandbath:10014617</td>\n",
       "      <td>(送料無料)極薄やわらかボタンローブM着丈100cm身巾52cm裄丈74cm【内野タオル】 ...</td>\n",
       "      <td>14300</td>\n",
       "      <td>https://item.rakuten.co.jp/uchino-towelandbath...</td>\n",
       "      <td>1</td>\n",
       "      <td>上質な日常に　バスタオル1枚分の軽さ お子様との入浴後にも便利でやわらかな肌触りのバスローブ</td>\n",
       "      <td>世界中から厳選した上質な天然素材や特別な製法により、触感や機能性、使い心地を最大限に追求して...</td>\n",
       "      <td>4.67</td>\n",
       "      <td>21</td>\n",
       "      <td>uchino-towelandbath</td>\n",
       "      <td>UCHINO Online Shop</td>\n",
       "      <td>https://www.rakuten.co.jp/uchino-towelandbath/</td>\n",
       "    </tr>\n",
       "    <tr>\n",
       "      <th>26</th>\n",
       "      <td>cyberl2010:10001208</td>\n",
       "      <td>バスローブ 今治 リラクシー ワッフル織 タオル地 送料無料 (宅配) ハニカム織 パイル ...</td>\n",
       "      <td>10360</td>\n",
       "      <td>https://item.rakuten.co.jp/cyberl2010/0211-032...</td>\n",
       "      <td>1</td>\n",
       "      <td></td>\n",
       "      <td>商品詳細 サイズ S：身長約145〜155cm M：身長約155〜165cm L：身長約16...</td>\n",
       "      <td>4.69</td>\n",
       "      <td>39</td>\n",
       "      <td>cyberl2010</td>\n",
       "      <td>タオルショップ　ブルーム</td>\n",
       "      <td>https://www.rakuten.co.jp/cyberl2010/</td>\n",
       "    </tr>\n",
       "  </tbody>\n",
       "</table>\n",
       "</div>"
      ],
      "text/plain": [
       "                           商品コード  \\\n",
       "0                 oruta:10000711   \n",
       "1   uchino-towelandbath:10017702   \n",
       "3            cyberl2010:10000060   \n",
       "4              bathlier:10029534   \n",
       "11          matsunamiki:10000206   \n",
       "12  uchino-towelandbath:10014617   \n",
       "26           cyberl2010:10001208   \n",
       "\n",
       "                                                  商品名     価格  \\\n",
       "0   【ポイント10倍】バスローブ 今治 S/M/Lサイズ HOTELALA タオル地 綿100％...  11200   \n",
       "1   【Web限定カラー登場】レディース バスローブ 綿100% エアリータッチレディスローブ 速...  11000   \n",
       "3   バスローブ 今治 ホテルタイプ scene 送料無料 (宅配) タオル地 今治タオル パイル...  12720   \n",
       "4   バスローブ レディース メンズ 速乾 軽量「Splendy スプレンディー ヤングカット（S...  12980   \n",
       "11  楽天1位 松並木 バスローブ/ガウン 襟付き 男女兼用 日本製 綿100% 肌にやさしい 特...  17160   \n",
       "12  (送料無料)極薄やわらかボタンローブM着丈100cm身巾52cm裄丈74cm【内野タオル】 ...  14300   \n",
       "26  バスローブ 今治 リラクシー ワッフル織 タオル地 送料無料 (宅配) ハニカム織 パイル ...  10360   \n",
       "\n",
       "                                                商品URL  availability  \\\n",
       "0          https://item.rakuten.co.jp/oruta/imarobel/             1   \n",
       "1   https://item.rakuten.co.jp/uchino-towelandbath...             1   \n",
       "3   https://item.rakuten.co.jp/cyberl2010/0211-001...             1   \n",
       "4   https://item.rakuten.co.jp/bathlier/bathrobe-7...             1   \n",
       "11     https://item.rakuten.co.jp/matsunamiki/380781/             1   \n",
       "12  https://item.rakuten.co.jp/uchino-towelandbath...             1   \n",
       "26  https://item.rakuten.co.jp/cyberl2010/0211-032...             1   \n",
       "\n",
       "                                            catchcopy  \\\n",
       "0   ＼楽天1位！／今治産 バスローブ レディース メンズ タオル地 今治 出産祝い 保温 無地 ...   \n",
       "1   非常に細い撚りのない糸をパイルに使用し、高密度で極限まで薄く織り上げたバスローブ。羽毛のよう...   \n",
       "3                                                       \n",
       "4   こんなに薄いのに保温性抜群！UVカット99％！出産祝いにも人気。G8オフィシャルギフト ボデ...   \n",
       "11  バスローブ 襟付き 5重 ガーゼ 特許 無添加ガーゼ5枚重ね 男女兼用 着るだけで即吸水し肌...   \n",
       "12     上質な日常に　バスタオル1枚分の軽さ お子様との入浴後にも便利でやわらかな肌触りのバスローブ   \n",
       "26                                                      \n",
       "\n",
       "                                          itemCaption  レビュー平均点  レビュー数  \\\n",
       "0   サイズ Sサイズ：身長 約 150〜165cm Mサイズ：身長 約 165〜175cm Lサ...     4.56     41   \n",
       "1   上質な日常 外から帰ってきて、ほっと一息つく空間を快適に過ごしていただきたいそんな思いのウェ...     4.78     99   \n",
       "3   サイズ 重さ S（身長150〜165cm、約840g） M（身長165〜175cm、約880...     4.50    300   \n",
       "4   商品名 バスローブ「スプレンディー」ヤングカットローブ 商品説明 お風呂上がりを優雅に過ごす...     4.27    110   \n",
       "11  ギフト対応サラサラふわふわ♪素適な着心地5重ガーゼバスローブ兼ガウン*5Gauze Bath...     4.72    152   \n",
       "12  世界中から厳選した上質な天然素材や特別な製法により、触感や機能性、使い心地を最大限に追求して...     4.67     21   \n",
       "26  商品詳細 サイズ S：身長約145〜155cm M：身長約155〜165cm L：身長約16...     4.69     39   \n",
       "\n",
       "               shopCode            shopName  \\\n",
       "0                 oruta              トランパラン   \n",
       "1   uchino-towelandbath  UCHINO Online Shop   \n",
       "3            cyberl2010        タオルショップ　ブルーム   \n",
       "4              bathlier    お風呂のソムリエSHOPバスリエ   \n",
       "11          matsunamiki    無添加ガーゼケット寝具工房松並木   \n",
       "12  uchino-towelandbath  UCHINO Online Shop   \n",
       "26           cyberl2010        タオルショップ　ブルーム   \n",
       "\n",
       "                                           shopUrl  \n",
       "0                 https://www.rakuten.co.jp/oruta/  \n",
       "1   https://www.rakuten.co.jp/uchino-towelandbath/  \n",
       "3            https://www.rakuten.co.jp/cyberl2010/  \n",
       "4              https://www.rakuten.co.jp/bathlier/  \n",
       "11          https://www.rakuten.co.jp/matsunamiki/  \n",
       "12  https://www.rakuten.co.jp/uchino-towelandbath/  \n",
       "26           https://www.rakuten.co.jp/cyberl2010/  "
      ]
     },
     "execution_count": 77,
     "metadata": {},
     "output_type": "execute_result"
    }
   ],
   "source": [
    "df[df['レビュー数'] > 20] "
   ]
  },
  {
   "cell_type": "code",
   "execution_count": null,
   "metadata": {},
   "outputs": [],
   "source": []
  }
 ],
 "metadata": {
  "interpreter": {
   "hash": "6e3b034470570cd20b7de1cfbe14068d39f54646a4801e222cd4d7166f94b091"
  },
  "kernelspec": {
   "display_name": "Python 3.9.12 ('stdenv')",
   "language": "python",
   "name": "python3"
  },
  "language_info": {
   "codemirror_mode": {
    "name": "ipython",
    "version": 3
   },
   "file_extension": ".py",
   "mimetype": "text/x-python",
   "name": "python",
   "nbconvert_exporter": "python",
   "pygments_lexer": "ipython3",
   "version": "3.9.12"
  },
  "orig_nbformat": 4
 },
 "nbformat": 4,
 "nbformat_minor": 2
}
