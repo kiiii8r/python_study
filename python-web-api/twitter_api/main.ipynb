{
 "cells": [
  {
   "cell_type": "markdown",
   "metadata": {},
   "source": [
    "Twitter Developer Portal\n",
    "https://developer.twitter.com/en/portal/projects/1576488149152575488/apps/25617004/settings\n",
    "\n",
    "tweepy\n",
    "https://kurozumi.github.io/tweepy/getting_started.html#api"
   ]
  },
  {
   "cell_type": "code",
   "execution_count": 4,
   "metadata": {},
   "outputs": [],
   "source": [
    "# jsonファイル読み込み\n",
    "import json\n",
    "with open('twitter.json') as f:\n",
    "    twitter_keys = json.load(f)\n",
    "\n",
    "consumer_key = twitter_keys['consumer_key']\n",
    "consumer_secret = twitter_keys['consumer_secret']\n",
    "access_token = twitter_keys['access_token']\n",
    "access_token_secret = twitter_keys['access_token_secret']"
   ]
  },
  {
   "cell_type": "code",
   "execution_count": 5,
   "metadata": {},
   "outputs": [],
   "source": [
    "import tweepy"
   ]
  },
  {
   "cell_type": "code",
   "execution_count": 6,
   "metadata": {},
   "outputs": [
    {
     "data": {
      "text/plain": [
       "<tweepy.api.API at 0x7fcdc0f6b160>"
      ]
     },
     "execution_count": 6,
     "metadata": {},
     "output_type": "execute_result"
    }
   ],
   "source": [
    "# 認証\n",
    "# APIへの認証\n",
    "auth = tweepy.OAuthHandler(consumer_key,consumer_secret)\n",
    "# Twitterアカウントへの認証\n",
    "auth.set_access_token(access_token, access_token_secret)\n",
    "\n",
    "# インスタンスを取得\n",
    "api = tweepy.API(auth)\n",
    "api"
   ]
  },
  {
   "cell_type": "code",
   "execution_count": null,
   "metadata": {},
   "outputs": [],
   "source": []
  }
 ],
 "metadata": {
  "interpreter": {
   "hash": "82232de28859a7895267f13f85790cb2620135cd95be6c2846e68d0ad16ba952"
  },
  "kernelspec": {
   "display_name": "Python 3.9.12 ('pyenv')",
   "language": "python",
   "name": "python3"
  },
  "language_info": {
   "codemirror_mode": {
    "name": "ipython",
    "version": 3
   },
   "file_extension": ".py",
   "mimetype": "text/x-python",
   "name": "python",
   "nbconvert_exporter": "python",
   "pygments_lexer": "ipython3",
   "version": "3.9.12"
  },
  "orig_nbformat": 4
 },
 "nbformat": 4,
 "nbformat_minor": 2
}
