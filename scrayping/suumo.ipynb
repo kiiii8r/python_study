{
 "cells": [
  {
   "cell_type": "code",
   "execution_count": 1,
   "metadata": {},
   "outputs": [
    {
     "name": "stdout",
     "output_type": "stream",
     "text": [
      "更新完了\n"
     ]
    }
   ],
   "source": [
    "# 必要なライブラリのインポート\n",
    "from bs4 import BeautifulSoup\n",
    "import pandas as pd\n",
    "import requests\n",
    "import datetime as dt\n",
    "import gspread\n",
    "from oauth2client.service_account import ServiceAccountCredentials\n",
    "from gspread_dataframe import get_as_dataframe, set_with_dataframe\n",
    "\n",
    "# パスの取得に必要なリストの定義\n",
    "new_path = []\n",
    "path = []\n",
    "\n",
    "# データフレームの作成に必要なリストの定義\n",
    "update_date_list = []\n",
    "house_image_list = []\n",
    "address_list = []\n",
    "distance_list = []\n",
    "year_list = []\n",
    "level_list = []\n",
    "room_image_list = []\n",
    "rent_price_list = []\n",
    "admin_price_list = []\n",
    "deposit_price_list = []\n",
    "key_price_list = []\n",
    "size_list = []\n",
    "area_list = []\n",
    "url_list = []\n",
    "favolite_list = []\n",
    "\n",
    "# 今日の日付\n",
    "today = format(dt.datetime.today(),'%Y/%m/%d')\n",
    "\n",
    "# SUUMOの検索ページ（指定済みURL）\n",
    "url = 'https://suumo.jp/jj/chintai/ichiran/FR301FC001/?ar=030&bs=040&ra=014&cb=0.0&ct=10.0&co=1&et=15&md=09&md=10&md=11&md=12&md=13&md=14&cn=9999999&mb=45&mt=9999999&shkr1=03&shkr2=03&shkr3=03&shkr4=03&fw2=&ek=016026210&rn=0160'\n",
    "page = requests.get(url)\n",
    "soup = BeautifulSoup(page.content, 'html.parser')\n",
    "\n",
    "# 住宅ごと\n",
    "elems = soup.find_all('div', class_='cassetteitem')\n",
    "for index, elem in enumerate(elems):\n",
    "\n",
    "    # 部屋ごと\n",
    "    elems_room = elem.find_all('tr', class_='js-cassette_link')\n",
    "    for elem_room in elems_room:\n",
    "\n",
    "        # 更新日\n",
    "        update_date_list.append(today)\n",
    "\n",
    "        # 家の画像\n",
    "        house_image_list.append('=IMAGE(\"' + elem.find('img', class_='js-linkImage')['rel'] + '\")')\n",
    "\n",
    "        # 住所\n",
    "        address_list.append(elem.find('li', class_='cassetteitem_detail-col1').text)\n",
    "\n",
    "        # 駅徒歩\n",
    "        distance_list.append(elem.find('div', class_='cassetteitem_detail-text').text)\n",
    "\n",
    "        # 築年数と階層\n",
    "        elem1 = elem.find('li', class_='cassetteitem_detail-col3')\n",
    "        # 築年数\n",
    "        year_list.append(elem1.find_all('div')[0].text)\n",
    "        # 階層\n",
    "        level_list.append(elem1.find_all('div')[1].text)\n",
    "        \n",
    "        # 間取り図\n",
    "        room_image_list.append('=IMAGE(\"' + elem_room.find('img')['rel'] + '\")')\n",
    "\n",
    "        # 賃料\n",
    "        rent_price_list.append(elem_room.find('span', class_='cassetteitem_other-emphasis').text)\n",
    "\n",
    "        # 管理費\n",
    "        admin_price_list.append(elem_room.find('span', class_='cassetteitem_price--administration').text)\n",
    "\n",
    "        # 敷金\n",
    "        deposit_price_list.append(elem_room.find('span', class_='cassetteitem_price--deposit').text)\n",
    "\n",
    "        # 礼金\n",
    "        key_price_list.append(elem_room.find('span', class_='cassetteitem_price--gratuity').text)\n",
    "\n",
    "        # 間取り\n",
    "        size_list.append(elem_room.find('span', class_='cassetteitem_madori').text)\n",
    "        \n",
    "        # 占有面積\n",
    "        area_list.append(elem_room.find('span', class_='cassetteitem_menseki').text)\n",
    "\n",
    "        # 詳細リンク取得\n",
    "        url_list.append('https://suumo.jp' + elem_room.find('a', class_='js-cassette_link_href')['href'])\n",
    "\n",
    "        # お気に入り登録\n",
    "        favolite_list.append(False)\n",
    "\n",
    "# データフレーム作成\n",
    "df = pd.DataFrame()\n",
    "\n",
    "df['更新日'] = update_date_list\n",
    "df['家の写真'] = house_image_list\n",
    "df['住所'] = address_list\n",
    "df['駅徒歩'] = distance_list\n",
    "df['築年数'] = year_list\n",
    "df['階層'] = level_list\n",
    "df['間取り図'] = room_image_list\n",
    "df['賃料'] = rent_price_list\n",
    "df['管理費'] = admin_price_list\n",
    "df['敷金'] = deposit_price_list\n",
    "df['礼金'] = key_price_list\n",
    "df['間取り'] = size_list\n",
    "df['占有面積'] = area_list\n",
    "df['詳細リンク'] = url_list\n",
    "df['お気に入り'] = favolite_list\n",
    "\n",
    "# CSVファイル出力\n",
    "# df.to_csv(f'./output/SUUMO.csv', index=False)\n",
    "\n",
    "# スプレッドシート連携\n",
    "# creds を使って Google Drive API と対話するためのクライアントを作成\n",
    "scope =['https://spreadsheets.google.com/feeds', 'https://www.googleapis.com/auth/drive']\n",
    "creds = ServiceAccountCredentials.from_json_keyfile_name(r'./python-spread.json', scope)\n",
    "client = gspread.authorize(creds)\n",
    "\n",
    "# ワークブックを検索、最初のシートを開く\n",
    "worksheet = client.open(\"SUUMOスクレイピング\").sheet1\n",
    "\n",
    "# すべての値を取得\n",
    "list_of_hashes = worksheet.get_all_records()\n",
    "\n",
    "# スプレッドシートのデータフレーム作成\n",
    "df_sp = pd.DataFrame()\n",
    "df_sp = pd.DataFrame(list_of_hashes)\n",
    "\n",
    "# 帝国スクレイピングとスプシのデータ統合\n",
    "df_con = pd.concat([df,df_sp])\n",
    "\n",
    "# スプレッドシートのデータ更新\n",
    "\n",
    "set_with_dataframe(worksheet, df_con.reset_index(drop=True))\n",
    "\n",
    "print('更新完了')"
   ]
  },
  {
   "cell_type": "code",
   "execution_count": 3,
   "metadata": {},
   "outputs": [
    {
     "name": "stdout",
     "output_type": "stream",
     "text": [
      "更新完了\n"
     ]
    }
   ],
   "source": [
    "\n",
    "# スプレッドシート連携\n",
    "# creds を使って Google Drive API と対話するためのクライアントを作成\n",
    "scope =['https://spreadsheets.google.com/feeds', 'https://www.googleapis.com/auth/drive']\n",
    "creds = ServiceAccountCredentials.from_json_keyfile_name(r'./python-spread.json', scope)\n",
    "client = gspread.authorize(creds)\n",
    "\n",
    "# ワークブックを検索、最初のシートを開く\n",
    "worksheet = client.open(\"SUUMOスクレイピング\").sheet1\n",
    "\n",
    "# すべての値を取得\n",
    "list_of_hashes = worksheet.get_all_records()\n",
    "\n",
    "# スプレッドシートのデータフレーム作成\n",
    "df_sp = pd.DataFrame()\n",
    "df_sp = pd.DataFrame(list_of_hashes)\n",
    "\n",
    "# 帝国スクレイピングとスプシのデータ統合\n",
    "df_con = pd.concat([df,df_sp])\n",
    "\n",
    "# スプレッドシートのデータ更新\n",
    "\n",
    "set_with_dataframe(worksheet, df_con.reset_index(drop=True))\n",
    "\n",
    "print('更新完了')"
   ]
  },
  {
   "cell_type": "code",
   "execution_count": 16,
   "metadata": {},
   "outputs": [
    {
     "data": {
      "text/plain": [
       "'2023/03/12'"
      ]
     },
     "execution_count": 16,
     "metadata": {},
     "output_type": "execute_result"
    }
   ],
   "source": [
    "import datetime as dt\n",
    "format(dt.datetime.today(),'%Y/%m/%d')"
   ]
  },
  {
   "cell_type": "code",
   "execution_count": 20,
   "metadata": {},
   "outputs": [
    {
     "data": {
      "text/plain": [
       "<img alt=\"\" class=\"js-noContextMenu js-linkImage js-scrollLazy js-adjustImg\" height=\"0\" rel=\"https://img01.suumo.com/front/gazo/fr/bukken/332/100320004332/100320004332_gw.jpg\" src=\"data:image/gif;base64,R0lGODlhAQABAIAAAAAAAAAAACH5BAEAAAAALAAAAAABAAEAAAICRAEAOw%3D%3D\" width=\"0\">\n",
       "</img>"
      ]
     },
     "execution_count": 20,
     "metadata": {},
     "output_type": "execute_result"
    }
   ],
   "source": [
    "elem.find('img', class_='js-linkImage')[]"
   ]
  },
  {
   "cell_type": "code",
   "execution_count": null,
   "metadata": {},
   "outputs": [],
   "source": []
  }
 ],
 "metadata": {
  "interpreter": {
   "hash": "82232de28859a7895267f13f85790cb2620135cd95be6c2846e68d0ad16ba952"
  },
  "kernelspec": {
   "display_name": "Python 3.9.12 ('pyenv')",
   "language": "python",
   "name": "python3"
  },
  "language_info": {
   "codemirror_mode": {
    "name": "ipython",
    "version": 3
   },
   "file_extension": ".py",
   "mimetype": "text/x-python",
   "name": "python",
   "nbconvert_exporter": "python",
   "pygments_lexer": "ipython3",
   "version": "3.9.12"
  },
  "orig_nbformat": 4
 },
 "nbformat": 4,
 "nbformat_minor": 2
}
