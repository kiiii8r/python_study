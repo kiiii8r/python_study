{
 "cells": [
  {
   "cell_type": "code",
   "execution_count": 42,
   "metadata": {},
   "outputs": [],
   "source": [
    "from bs4 import BeautifulSoup\n",
    "import requests\n",
    "\n",
    "top_url = 'https://maonline.jp/news'\n",
    "top_page = requests.get(top_url)\n",
    "soup = BeautifulSoup(top_page.content, 'html.parser')"
   ]
  },
  {
   "cell_type": "code",
   "execution_count": 43,
   "metadata": {},
   "outputs": [],
   "source": [
    "new_path = []\n",
    "path = []\n",
    "\n",
    "for article in soup.find_all('h4', class_='title'):\n",
    "    # newのみ取得の場合\n",
    "    if(article.span):\n",
    "        new_path.append(article.a['href'])\n",
    "\n",
    "    path.append(article.a['href'])\n",
    "\n",
    "new_path = ['https://maonline.jp' + text for text in new_path]\n",
    "path = ['https://maonline.jp' + text for text in path]\n"
   ]
  },
  {
   "cell_type": "code",
   "execution_count": 52,
   "metadata": {},
   "outputs": [],
   "source": [
    "titles = []\n",
    "contents = []\n",
    "c_names = []\n",
    "securities = []\n",
    "edinets = []\n",
    "addresses = []\n",
    "phones = []\n",
    "r_names = []\n",
    "\n",
    "\n",
    "for url in path:\n",
    "    # 記事ページのhtml取得\n",
    "    page = requests.get(path[0])\n",
    "    soup = BeautifulSoup(page.content, 'html.parser')\n",
    "\n",
    "    # 記事のタイトル取得\n",
    "    title = soup.find('h1', class_='title')\n",
    "    titles.append(title.text)\n",
    "\n",
    "    # 記事の内容取得\n",
    "    content = soup.find('div', class_='article_body')\n",
    "    contents.append(content.text)\n",
    "\n",
    "    # 企業情報ページのURL取得\n",
    "    c_button = soup.find('div', class_='button_company')\n",
    "    c_path = c_button.a['href']\n",
    "    c_url = 'https://maonline.jp/' + c_path\n",
    "\n",
    "    # 企業情報ページのhtml取得\n",
    "    c_page = requests.get(c_url)\n",
    "    c_soup = BeautifulSoup(c_page.content, 'html.parser')"
   ]
  },
  {
   "cell_type": "code",
   "execution_count": 55,
   "metadata": {},
   "outputs": [
    {
     "name": "stdout",
     "output_type": "stream",
     "text": [
      "\n",
      "\t\t\t\t\tシダックスへのTOB、オイシックスが買付期間を再延長\n",
      "\t\t\t\t\n",
      "\n",
      "給食大手のシダックスにTOB（株式公開買い付け）を実施中のオイシックス・ラ・大地は5日、同日までとしていた買付期間を10月20日まで10営業日延長すると発表した。買付期間の延長は2度目。オイシックスはシダックス創業家と連携し、筆頭株主である投資ファンドのユニゾン・キャピタル（東京都千代田区）が保有する株式27％余りを買い取ることを目的に8月30日にTOBを始めたが、シダックス取締役会がTOBに反対しているため、ユニゾンはTOBに応じていない。\n",
      "オイシックスはシダックス取締役会がTOBに反対としている意見表明の内容が変更された場合に、ユニゾンにTOBへの応募を依頼する方針。このため、買付期間を再延長することにした。\n",
      "\n"
     ]
    }
   ],
   "source": []
  },
  {
   "cell_type": "code",
   "execution_count": 51,
   "metadata": {},
   "outputs": [
    {
     "data": {
      "text/plain": [
       "[<th>会社名</th>,\n",
       " <th>証券コード</th>,\n",
       " <th>EDINETコード</th>,\n",
       " <th>住所</th>,\n",
       " <th>電話番号</th>,\n",
       " <th>代表者名</th>]"
      ]
     },
     "execution_count": 51,
     "metadata": {},
     "output_type": "execute_result"
    }
   ],
   "source": [
    "\n",
    "\n",
    "c_val = c_soup.find_all('td')\n",
    "\n",
    "for index, val in enumerate(c_val):\n",
    "    if index == 0:\n",
    "        c_names.append(val)\n",
    "    if index == 1:\n",
    "        securities.append(val)\n",
    "    if index == 2:\n",
    "        edinets.append(val)\n",
    "    if index == 3:\n",
    "        addresses.append(val)\n",
    "    if index == 4:\n",
    "        phones.append(val)\n",
    "    if index == 5:\n",
    "        r_names.append(val)\n",
    "\n",
    "\n",
    "\n"
   ]
  },
  {
   "cell_type": "code",
   "execution_count": null,
   "metadata": {},
   "outputs": [],
   "source": [
    "['会社名']\n",
    "['証券コード']\n",
    "['EDINETコード']\n",
    "['住所']\n",
    "['電話番号']\n",
    "['代表者名']"
   ]
  }
 ],
 "metadata": {
  "interpreter": {
   "hash": "82232de28859a7895267f13f85790cb2620135cd95be6c2846e68d0ad16ba952"
  },
  "kernelspec": {
   "display_name": "Python 3.9.12 ('pyenv')",
   "language": "python",
   "name": "python3"
  },
  "language_info": {
   "codemirror_mode": {
    "name": "ipython",
    "version": 3
   },
   "file_extension": ".py",
   "mimetype": "text/x-python",
   "name": "python",
   "nbconvert_exporter": "python",
   "pygments_lexer": "ipython3",
   "version": "3.9.12"
  },
  "orig_nbformat": 4
 },
 "nbformat": 4,
 "nbformat_minor": 2
}
