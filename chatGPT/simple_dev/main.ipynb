{
 "cells": [
  {
   "cell_type": "code",
   "execution_count": 2,
   "metadata": {},
   "outputs": [
    {
     "name": "stdout",
     "output_type": "stream",
     "text": [
      "インフォトップから購入した方は、別途「購入ユーザー限定ページ」に登録する必要があります。登録には、以下のURLからご購入日より30日以内に設定を完了してください。登録にあたって、購入メールアドレスや銀行振込で購入した方は注意が必要です。また、WordPressテーマ、プラグインのサポートや動作、機能の保証は不可とのことです。問い合わせ先は株式会社オンスピードです。\n"
     ]
    }
   ],
   "source": [
    "import openai\n",
    "import os\n",
    "import json\n",
    "\n",
    "input_file = input('要約したい対象のパス：')\n",
    "with open(input_file, encoding='utf-8') as f:\n",
    "    text = f.read()\n",
    "\n",
    "with open('openai_key.json') as f:\n",
    "    api_keys = json.load(f)\n",
    "\n",
    "ORGANIZATION = api_keys['ORGANIZATION']\n",
    "OPENAI_API_KEY = api_keys['OPENAI_API_KEY']\n",
    "\n",
    "openai.organization = ORGANIZATION\n",
    "openai.api_key = OPENAI_API_KEY\n",
    "openai.Model.list()\n",
    "\n",
    "# role：役割\n",
    "# system(チャットシステム)\n",
    "# user(使う側)\n",
    "# assistant(ChatGPT)\n",
    "\n",
    "res = openai.ChatCompletion.create(\n",
    "    model=\"gpt-3.5-turbo\",\n",
    "    messages=[\n",
    "        {'role': 'system', 'content': 'You are a helpful assistant.'}, # 御作法\n",
    "        {'role': 'user', 'content': f'この文章を要約してください。「{text}」'},\n",
    "    ]\n",
    ")\n",
    "\n",
    "# 返答の内容\n",
    "res_content = res['choices'][0]['message']['content']\n",
    "print(res_content)\n",
    "\n",
    "with open('output.txt', 'w') as f:\n",
    "    f.write(res_content)"
   ]
  },
  {
   "cell_type": "code",
   "execution_count": 3,
   "metadata": {},
   "outputs": [
    {
     "data": {
      "text/plain": [
       "<OpenAIObject chat.completion id=chatcmpl-6zUzRuciuPmHih9eGQwHJ8fjUJkb7 at 0x7fa24b45c810> JSON: {\n",
       "  \"choices\": [\n",
       "    {\n",
       "      \"finish_reason\": \"stop\",\n",
       "      \"index\": 0,\n",
       "      \"message\": {\n",
       "        \"content\": \"\\u30a4\\u30f3\\u30d5\\u30a9\\u30c8\\u30c3\\u30d7\\u304b\\u3089\\u8cfc\\u5165\\u3057\\u305f\\u65b9\\u306f\\u3001\\u5225\\u9014\\u300c\\u8cfc\\u5165\\u30e6\\u30fc\\u30b6\\u30fc\\u9650\\u5b9a\\u30da\\u30fc\\u30b8\\u300d\\u306b\\u767b\\u9332\\u3059\\u308b\\u5fc5\\u8981\\u304c\\u3042\\u308a\\u307e\\u3059\\u3002\\u767b\\u9332\\u306b\\u306f\\u3001\\u4ee5\\u4e0b\\u306eURL\\u304b\\u3089\\u3054\\u8cfc\\u5165\\u65e5\\u3088\\u308a30\\u65e5\\u4ee5\\u5185\\u306b\\u8a2d\\u5b9a\\u3092\\u5b8c\\u4e86\\u3057\\u3066\\u304f\\u3060\\u3055\\u3044\\u3002\\u767b\\u9332\\u306b\\u3042\\u305f\\u3063\\u3066\\u3001\\u8cfc\\u5165\\u30e1\\u30fc\\u30eb\\u30a2\\u30c9\\u30ec\\u30b9\\u3084\\u9280\\u884c\\u632f\\u8fbc\\u3067\\u8cfc\\u5165\\u3057\\u305f\\u65b9\\u306f\\u6ce8\\u610f\\u304c\\u5fc5\\u8981\\u3067\\u3059\\u3002\\u307e\\u305f\\u3001WordPress\\u30c6\\u30fc\\u30de\\u3001\\u30d7\\u30e9\\u30b0\\u30a4\\u30f3\\u306e\\u30b5\\u30dd\\u30fc\\u30c8\\u3084\\u52d5\\u4f5c\\u3001\\u6a5f\\u80fd\\u306e\\u4fdd\\u8a3c\\u306f\\u4e0d\\u53ef\\u3068\\u306e\\u3053\\u3068\\u3067\\u3059\\u3002\\u554f\\u3044\\u5408\\u308f\\u305b\\u5148\\u306f\\u682a\\u5f0f\\u4f1a\\u793e\\u30aa\\u30f3\\u30b9\\u30d4\\u30fc\\u30c9\\u3067\\u3059\\u3002\",\n",
       "        \"role\": \"assistant\"\n",
       "      }\n",
       "    }\n",
       "  ],\n",
       "  \"created\": 1680115153,\n",
       "  \"id\": \"chatcmpl-6zUzRuciuPmHih9eGQwHJ8fjUJkb7\",\n",
       "  \"model\": \"gpt-3.5-turbo-0301\",\n",
       "  \"object\": \"chat.completion\",\n",
       "  \"usage\": {\n",
       "    \"completion_tokens\": 167,\n",
       "    \"prompt_tokens\": 674,\n",
       "    \"total_tokens\": 841\n",
       "  }\n",
       "}"
      ]
     },
     "execution_count": 3,
     "metadata": {},
     "output_type": "execute_result"
    }
   ],
   "source": [
    "res"
   ]
  },
  {
   "cell_type": "code",
   "execution_count": null,
   "metadata": {},
   "outputs": [],
   "source": []
  }
 ],
 "metadata": {
  "interpreter": {
   "hash": "82232de28859a7895267f13f85790cb2620135cd95be6c2846e68d0ad16ba952"
  },
  "kernelspec": {
   "display_name": "Python 3.9.12 ('pyenv')",
   "language": "python",
   "name": "python3"
  },
  "language_info": {
   "codemirror_mode": {
    "name": "ipython",
    "version": 3
   },
   "file_extension": ".py",
   "mimetype": "text/x-python",
   "name": "python",
   "nbconvert_exporter": "python",
   "pygments_lexer": "ipython3",
   "version": "3.9.12"
  },
  "orig_nbformat": 4
 },
 "nbformat": 4,
 "nbformat_minor": 2
}
