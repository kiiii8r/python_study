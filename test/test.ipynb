{
 "cells": [
  {
   "cell_type": "code",
   "execution_count": 68,
   "metadata": {},
   "outputs": [],
   "source": [
    "import pandas as pd\n",
    "df_all = pd.DataFrame()\n",
    "df_tohoku = pd.DataFrame()\n",
    "df_kanto = pd.DataFrame()\n",
    "df_tokyo = pd.DataFrame()\n",
    "df_hokuriku = pd.DataFrame()\n",
    "df_kansai = pd.DataFrame()\n",
    "df_chugoku = pd.DataFrame()\n",
    "df_kyushu = pd.DataFrame()\n",
    "\n",
    "input = './input'\n",
    "input_list = os.listdir(path=input)\n",
    "\n",
    "for name in input_list:\n",
    "    pdf_column = []\n",
    "\n",
    "    df = pd.DataFrame()\n",
    "    df = pd.read_csv(f'./input/{name}')\n",
    "\n",
    "    for index in range(len(df)):\n",
    "        num = index + 1\n",
    "        text = name.replace('.xlsx', '')\n",
    "        value = f'{text}{num}'\n",
    "        pdf_column.append(value)\n",
    "    \n",
    "    df['PDF出力用'] = pdf_column\n",
    "    first_column = df.pop('PDF出力用')\n",
    "    df.insert(0,'PDF出力用',first_column)\n",
    "\n",
    "    df_all = pd.concat([df_all, df])\n",
    "\n",
    "    if ('北海道' in name or '青森' in name or '岩手' in name or '宮城' in name or '秋田' in name or '山形' in name or '福島' in name):\n",
    "        df_tohoku = pd.concat([df_tohoku, df])\n",
    "    elif ('茨城' in name or '栃木' in name or '群馬' in name or '埼玉' in name or '千葉' in name or '神奈川' in name ):\n",
    "        df_kanto = pd.concat([df_kanto, df])\n",
    "    elif '東京' in name:\n",
    "        df_tokyo = pd.concat([df_tokyo, df])\n",
    "    elif ('新潟' in name or '富山' in name or '石川' in name or '福井' in name or '山梨' in name or '長野' in name or '岐阜' in name or '静岡' in name or '愛知' in name or '三重' in name):\n",
    "        df_hokuriku = pd.concat([df_hokuriku, df])\n",
    "    elif ('滋賀' in name or '京都' in name or '大阪' in name or '兵庫' in name or '奈良' in name or '和歌山' in name):\n",
    "        df_kansai = pd.concat([df_kansai, df])\n",
    "    elif ('鳥取' in name or '島根' in name or '岡山' in name or '広島' in name or '山口' in name or '徳島' in name or '香川' in name or '愛媛' in name or '高知' in name):\n",
    "        df_chugoku = pd.concat([df_chugoku, df])\n",
    "    elif ('福岡' in name or '佐賀' in name or '長崎' in name or '熊本' in name or '大分' in name or '宮崎' in name or '鹿児島' in name or '沖縄' in name):\n",
    "        df_chugoku = pd.concat([df_chugoku, df])"
   ]
  },
  {
   "cell_type": "code",
   "execution_count": 70,
   "metadata": {},
   "outputs": [
    {
     "data": {
      "text/html": [
       "<div>\n",
       "<style scoped>\n",
       "    .dataframe tbody tr th:only-of-type {\n",
       "        vertical-align: middle;\n",
       "    }\n",
       "\n",
       "    .dataframe tbody tr th {\n",
       "        vertical-align: top;\n",
       "    }\n",
       "\n",
       "    .dataframe thead th {\n",
       "        text-align: right;\n",
       "    }\n",
       "</style>\n",
       "<table border=\"1\" class=\"dataframe\">\n",
       "  <thead>\n",
       "    <tr style=\"text-align: right;\">\n",
       "      <th></th>\n",
       "      <th>PDF出力用</th>\n",
       "      <th>URL</th>\n",
       "      <th>会社名</th>\n",
       "      <th>郵便番号</th>\n",
       "      <th>住所</th>\n",
       "      <th>理由</th>\n",
       "    </tr>\n",
       "  </thead>\n",
       "  <tbody>\n",
       "    <tr>\n",
       "      <th>0</th>\n",
       "      <td>東京国税庁.csv1</td>\n",
       "      <td>https://ttzk.graffer.jp/corporations/901040113...</td>\n",
       "      <td>株式会社グラファー</td>\n",
       "      <td>〒1510051</td>\n",
       "      <td>東京都渋谷区千駄ヶ谷１丁目５番８号</td>\n",
       "      <td>,新規,国内所在地の変更,国内所在地の変更,国内所在地の変更</td>\n",
       "    </tr>\n",
       "    <tr>\n",
       "      <th>1</th>\n",
       "      <td>東京国税庁.csv2</td>\n",
       "      <td>https://ttzk.graffer.jp/corporations/604000301...</td>\n",
       "      <td>ああああ合同会社</td>\n",
       "      <td>〒2730866</td>\n",
       "      <td>千葉県船橋市夏見台１丁目１４番地２３号</td>\n",
       "      <td>,新規</td>\n",
       "    </tr>\n",
       "    <tr>\n",
       "      <th>2</th>\n",
       "      <td>東京国税庁.csv3</td>\n",
       "      <td>https://ttzk.graffer.jp/corporations/310000300...</td>\n",
       "      <td>合同会社ヨウコウダイイイダ</td>\n",
       "      <td>〒3900876</td>\n",
       "      <td>長野県松本市開智２丁目３－３２</td>\n",
       "      <td>,新規</td>\n",
       "    </tr>\n",
       "    <tr>\n",
       "      <th>3</th>\n",
       "      <td>東京国税庁.csv4</td>\n",
       "      <td>https://ttzk.graffer.jp/corporations/101150100...</td>\n",
       "      <td>株式会社コモディイイダ</td>\n",
       "      <td>〒1140023</td>\n",
       "      <td>東京都北区滝野川７丁目２７番７号</td>\n",
       "      <td>,新規</td>\n",
       "    </tr>\n",
       "  </tbody>\n",
       "</table>\n",
       "</div>"
      ],
      "text/plain": [
       "       PDF出力用                                                URL  \\\n",
       "0  東京国税庁.csv1  https://ttzk.graffer.jp/corporations/901040113...   \n",
       "1  東京国税庁.csv2  https://ttzk.graffer.jp/corporations/604000301...   \n",
       "2  東京国税庁.csv3  https://ttzk.graffer.jp/corporations/310000300...   \n",
       "3  東京国税庁.csv4  https://ttzk.graffer.jp/corporations/101150100...   \n",
       "\n",
       "             会社名      郵便番号                   住所  \\\n",
       "0      株式会社グラファー  〒1510051    東京都渋谷区千駄ヶ谷１丁目５番８号   \n",
       "1       ああああ合同会社  〒2730866  千葉県船橋市夏見台１丁目１４番地２３号   \n",
       "2  合同会社ヨウコウダイイイダ  〒3900876      長野県松本市開智２丁目３－３２   \n",
       "3    株式会社コモディイイダ  〒1140023     東京都北区滝野川７丁目２７番７号   \n",
       "\n",
       "                               理由  \n",
       "0  ,新規,国内所在地の変更,国内所在地の変更,国内所在地の変更  \n",
       "1                             ,新規  \n",
       "2                             ,新規  \n",
       "3                             ,新規  "
      ]
     },
     "execution_count": 70,
     "metadata": {},
     "output_type": "execute_result"
    }
   ],
   "source": [
    "df_tokyo"
   ]
  },
  {
   "cell_type": "code",
   "execution_count": 46,
   "metadata": {},
   "outputs": [
    {
     "data": {
      "text/html": [
       "<div>\n",
       "<style scoped>\n",
       "    .dataframe tbody tr th:only-of-type {\n",
       "        vertical-align: middle;\n",
       "    }\n",
       "\n",
       "    .dataframe tbody tr th {\n",
       "        vertical-align: top;\n",
       "    }\n",
       "\n",
       "    .dataframe thead th {\n",
       "        text-align: right;\n",
       "    }\n",
       "</style>\n",
       "<table border=\"1\" class=\"dataframe\">\n",
       "  <thead>\n",
       "    <tr style=\"text-align: right;\">\n",
       "      <th></th>\n",
       "    </tr>\n",
       "  </thead>\n",
       "  <tbody>\n",
       "  </tbody>\n",
       "</table>\n",
       "</div>"
      ],
      "text/plain": [
       "Empty DataFrame\n",
       "Columns: []\n",
       "Index: []"
      ]
     },
     "execution_count": 46,
     "metadata": {},
     "output_type": "execute_result"
    }
   ],
   "source": [
    "num_tohoku = len(df_tohoku)\n",
    "num_kanto = len(df_kanto)\n",
    "num_tokyo = len(df_tokyo)\n",
    "num_hokuriku = len(df_hokuriku)\n",
    "num_kansai = len(df_kansai)\n",
    "num_chugoku = len(df_chugoku)\n",
    "num_kyushu = len(df_kyushu)\n",
    "\n",
    "df_all.to_excel(f'\\\\外部IDあり_差異チェック結果結合（ALL）')\n",
    "df_tohoku.to_excel(f'\\\\①ALL更新ありデータ_北海道・東北（{num_tohoku}件）')\n",
    "df_kanto.to_excel(f'\\\\②ALL更新ありデータ_関東東京以外（{num_kanto}件）')\n",
    "df_tokyo.to_excel(f'\\\\③ALL更新ありデータ_東京（{num_tokyo}件')\n",
    "df_hokuriku.to_excel(f'\\\\④ALL更新ありデータ_北陸・信越・東海（{num_hokuriku}件）')\n",
    "df_kansai.to_excel(f'\\\\⑤ALL更新ありデータ_近畿・関西（{num_kansai}件）')\n",
    "df_chugoku.to_excel(f'\\\\⑥ALL更新ありデータ_中国・四国（{num_chugoku}件）')\n",
    "df_kyushu.to_excel(f'\\\\⑦ALL更新ありデータ_九州・沖縄（{num_kyushu}件）')"
   ]
  },
  {
   "cell_type": "code",
   "execution_count": 66,
   "metadata": {},
   "outputs": [],
   "source": [
    "name = '埼の何か'\n",
    "if ('東京' in name or '埼玉' in name):\n",
    "    print(True)"
   ]
  },
  {
   "cell_type": "code",
   "execution_count": null,
   "metadata": {},
   "outputs": [],
   "source": []
  }
 ],
 "metadata": {
  "interpreter": {
   "hash": "bab484d906b2f18946df9f1d3f9afe7b18e4da337495264419bb66ea8a340375"
  },
  "kernelspec": {
   "display_name": "Python 3.9.12 ('base')",
   "language": "python",
   "name": "python3"
  },
  "language_info": {
   "codemirror_mode": {
    "name": "ipython",
    "version": 3
   },
   "file_extension": ".py",
   "mimetype": "text/x-python",
   "name": "python",
   "nbconvert_exporter": "python",
   "pygments_lexer": "ipython3",
   "version": "3.9.12"
  },
  "orig_nbformat": 4
 },
 "nbformat": 4,
 "nbformat_minor": 2
}
