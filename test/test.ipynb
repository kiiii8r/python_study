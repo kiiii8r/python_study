{
 "cells": [
  {
   "cell_type": "code",
   "execution_count": 18,
   "metadata": {},
   "outputs": [],
   "source": [
    "import pandas as pd\n",
    "df_all = pd.DataFrame()\n",
    "df_tohoku = pd.DataFrame()\n",
    "df_kanto = pd.DataFrame()\n",
    "df_tokyo = pd.DataFrame()\n",
    "df_hokuriku = pd.DataFrame()\n",
    "df_kansai = pd.DataFrame()\n",
    "df_chugoku = pd.DataFrame()\n",
    "df_kyushu = pd.DataFrame()\n",
    "\n",
    "input = './input'\n",
    "input_list = os.listdir(path=input)\n",
    "\n",
    "for name in input_list:\n",
    "    pdf_column = []\n",
    "\n",
    "    df = pd.DataFrame()\n",
    "    df = pd.read_csv(f'./input/{name}')\n",
    "\n",
    "    for index in range(len(df)):\n",
    "        num = index + 1\n",
    "        text = name.replace('.xlsx', '')\n",
    "        value = f'{text}{num}'\n",
    "        pdf_column.append(value)\n",
    "    \n",
    "    df['PDF出力用'] = pdf_column\n",
    "    first_column = df.pop('PDF出力用')\n",
    "    df.insert(0,'PDF出力用',first_column)\n",
    "\n",
    "    df_all = pd.concat([df_all, df])\n",
    "\n",
    "    if ('北海道' in name or '青森' in name or '岩手' in name or '宮城' in name or '秋田' in name or '山形' in name or '福島' in name):\n",
    "        df_tohoku = pd.concat([df_tohoku, df])\n",
    "    elif ('茨城' in name or '栃木' in name or '群馬' in name or '埼玉' in name or '千葉' in name or '神奈川' in name ):\n",
    "        df_kanto = pd.concat([df_kanto, df])\n",
    "    elif '東京' in name:\n",
    "        df_tokyo = pd.concat([df_tokyo, df])\n",
    "    elif ('新潟' in name or '富山' in name or '石川' in name or '福井' in name or '山梨' in name or '長野' in name or '岐阜' in name or '静岡' in name or '愛知' in name or '三重' in name):\n",
    "        df_hokuriku = pd.concat([df_hokuriku, df])\n",
    "    elif ('滋賀' in name or '京都' in name or '大阪' in name or '兵庫' in name or '奈良' in name or '和歌山' in name):\n",
    "        df_kansai = pd.concat([df_kansai, df])\n",
    "    elif ('鳥取' in name or '島根' in name or '岡山' in name or '広島' in name or '山口' in name or '徳島' in name or '香川' in name or '愛媛' in name or '高知' in name):\n",
    "        df_chugoku = pd.concat([df_chugoku, df])\n",
    "    elif ('福岡' in name or '佐賀' in name or '長崎' in name or '熊本' in name or '大分' in name or '宮崎' in name or '鹿児島' in name or '沖縄' in name):\n",
    "        df_chugoku = pd.concat([df_chugoku, df])"
   ]
  },
  {
   "cell_type": "code",
   "execution_count": 19,
   "metadata": {},
   "outputs": [
    {
     "data": {
      "text/html": [
       "<div>\n",
       "<style scoped>\n",
       "    .dataframe tbody tr th:only-of-type {\n",
       "        vertical-align: middle;\n",
       "    }\n",
       "\n",
       "    .dataframe tbody tr th {\n",
       "        vertical-align: top;\n",
       "    }\n",
       "\n",
       "    .dataframe thead th {\n",
       "        text-align: right;\n",
       "    }\n",
       "</style>\n",
       "<table border=\"1\" class=\"dataframe\">\n",
       "  <thead>\n",
       "    <tr style=\"text-align: right;\">\n",
       "      <th></th>\n",
       "      <th>PDF出力用</th>\n",
       "      <th>URL</th>\n",
       "      <th>会社名</th>\n",
       "      <th>郵便番号</th>\n",
       "      <th>住所</th>\n",
       "      <th>理由</th>\n",
       "    </tr>\n",
       "  </thead>\n",
       "  <tbody>\n",
       "    <tr>\n",
       "      <th>0</th>\n",
       "      <td>東京国税庁.csv1</td>\n",
       "      <td>https://ttzk.graffer.jp/corporations/901040113...</td>\n",
       "      <td>株式会社グラファー</td>\n",
       "      <td>〒1510051</td>\n",
       "      <td>東京都渋谷区千駄ヶ谷１丁目５番８号</td>\n",
       "      <td>,新規,国内所在地の変更,国内所在地の変更,国内所在地の変更</td>\n",
       "    </tr>\n",
       "    <tr>\n",
       "      <th>1</th>\n",
       "      <td>東京国税庁.csv2</td>\n",
       "      <td>https://ttzk.graffer.jp/corporations/604000301...</td>\n",
       "      <td>ああああ合同会社</td>\n",
       "      <td>〒2730866</td>\n",
       "      <td>千葉県船橋市夏見台１丁目１４番地２３号</td>\n",
       "      <td>,新規</td>\n",
       "    </tr>\n",
       "    <tr>\n",
       "      <th>2</th>\n",
       "      <td>東京国税庁.csv3</td>\n",
       "      <td>https://ttzk.graffer.jp/corporations/310000300...</td>\n",
       "      <td>合同会社ヨウコウダイイイダ</td>\n",
       "      <td>〒3900876</td>\n",
       "      <td>長野県松本市開智２丁目３－３２</td>\n",
       "      <td>,新規</td>\n",
       "    </tr>\n",
       "    <tr>\n",
       "      <th>3</th>\n",
       "      <td>東京国税庁.csv4</td>\n",
       "      <td>https://ttzk.graffer.jp/corporations/101150100...</td>\n",
       "      <td>株式会社コモディイイダ</td>\n",
       "      <td>〒1140023</td>\n",
       "      <td>東京都北区滝野川７丁目２７番７号</td>\n",
       "      <td>,新規</td>\n",
       "    </tr>\n",
       "  </tbody>\n",
       "</table>\n",
       "</div>"
      ],
      "text/plain": [
       "       PDF出力用                                                URL  \\\n",
       "0  東京国税庁.csv1  https://ttzk.graffer.jp/corporations/901040113...   \n",
       "1  東京国税庁.csv2  https://ttzk.graffer.jp/corporations/604000301...   \n",
       "2  東京国税庁.csv3  https://ttzk.graffer.jp/corporations/310000300...   \n",
       "3  東京国税庁.csv4  https://ttzk.graffer.jp/corporations/101150100...   \n",
       "\n",
       "             会社名      郵便番号                   住所  \\\n",
       "0      株式会社グラファー  〒1510051    東京都渋谷区千駄ヶ谷１丁目５番８号   \n",
       "1       ああああ合同会社  〒2730866  千葉県船橋市夏見台１丁目１４番地２３号   \n",
       "2  合同会社ヨウコウダイイイダ  〒3900876      長野県松本市開智２丁目３－３２   \n",
       "3    株式会社コモディイイダ  〒1140023     東京都北区滝野川７丁目２７番７号   \n",
       "\n",
       "                               理由  \n",
       "0  ,新規,国内所在地の変更,国内所在地の変更,国内所在地の変更  \n",
       "1                             ,新規  \n",
       "2                             ,新規  \n",
       "3                             ,新規  "
      ]
     },
     "execution_count": 19,
     "metadata": {},
     "output_type": "execute_result"
    }
   ],
   "source": [
    "df_tokyo"
   ]
  },
  {
   "cell_type": "code",
   "execution_count": 20,
   "metadata": {},
   "outputs": [
    {
     "ename": "ValueError",
     "evalue": "No engine for filetype: ''",
     "output_type": "error",
     "traceback": [
      "\u001b[0;31m---------------------------------------------------------------------------\u001b[0m",
      "\u001b[0;31mOptionError\u001b[0m                               Traceback (most recent call last)",
      "File \u001b[0;32m~/opt/anaconda3/lib/python3.9/site-packages/pandas/io/excel/_base.py:999\u001b[0m, in \u001b[0;36mExcelWriter.__new__\u001b[0;34m(cls, path, engine, date_format, datetime_format, mode, storage_options, if_sheet_exists, engine_kwargs, **kwargs)\u001b[0m\n\u001b[1;32m    <a href='file:///Users/kii/opt/anaconda3/lib/python3.9/site-packages/pandas/io/excel/_base.py?line=997'>998</a>\u001b[0m \u001b[39mtry\u001b[39;00m:\n\u001b[0;32m--> <a href='file:///Users/kii/opt/anaconda3/lib/python3.9/site-packages/pandas/io/excel/_base.py?line=998'>999</a>\u001b[0m     engine \u001b[39m=\u001b[39m config\u001b[39m.\u001b[39;49mget_option(\u001b[39mf\u001b[39;49m\u001b[39m\"\u001b[39;49m\u001b[39mio.excel.\u001b[39;49m\u001b[39m{\u001b[39;49;00mext\u001b[39m}\u001b[39;49;00m\u001b[39m.writer\u001b[39;49m\u001b[39m\"\u001b[39;49m, silent\u001b[39m=\u001b[39;49m\u001b[39mTrue\u001b[39;49;00m)\n\u001b[1;32m   <a href='file:///Users/kii/opt/anaconda3/lib/python3.9/site-packages/pandas/io/excel/_base.py?line=999'>1000</a>\u001b[0m     \u001b[39mif\u001b[39;00m engine \u001b[39m==\u001b[39m \u001b[39m\"\u001b[39m\u001b[39mauto\u001b[39m\u001b[39m\"\u001b[39m:\n",
      "File \u001b[0;32m~/opt/anaconda3/lib/python3.9/site-packages/pandas/_config/config.py:256\u001b[0m, in \u001b[0;36mCallableDynamicDoc.__call__\u001b[0;34m(self, *args, **kwds)\u001b[0m\n\u001b[1;32m    <a href='file:///Users/kii/opt/anaconda3/lib/python3.9/site-packages/pandas/_config/config.py?line=254'>255</a>\u001b[0m \u001b[39mdef\u001b[39;00m \u001b[39m__call__\u001b[39m(\u001b[39mself\u001b[39m, \u001b[39m*\u001b[39margs, \u001b[39m*\u001b[39m\u001b[39m*\u001b[39mkwds):\n\u001b[0;32m--> <a href='file:///Users/kii/opt/anaconda3/lib/python3.9/site-packages/pandas/_config/config.py?line=255'>256</a>\u001b[0m     \u001b[39mreturn\u001b[39;00m \u001b[39mself\u001b[39;49m\u001b[39m.\u001b[39;49m\u001b[39m__func__\u001b[39;49m(\u001b[39m*\u001b[39;49margs, \u001b[39m*\u001b[39;49m\u001b[39m*\u001b[39;49mkwds)\n",
      "File \u001b[0;32m~/opt/anaconda3/lib/python3.9/site-packages/pandas/_config/config.py:128\u001b[0m, in \u001b[0;36m_get_option\u001b[0;34m(pat, silent)\u001b[0m\n\u001b[1;32m    <a href='file:///Users/kii/opt/anaconda3/lib/python3.9/site-packages/pandas/_config/config.py?line=126'>127</a>\u001b[0m \u001b[39mdef\u001b[39;00m \u001b[39m_get_option\u001b[39m(pat: \u001b[39mstr\u001b[39m, silent: \u001b[39mbool\u001b[39m \u001b[39m=\u001b[39m \u001b[39mFalse\u001b[39;00m):\n\u001b[0;32m--> <a href='file:///Users/kii/opt/anaconda3/lib/python3.9/site-packages/pandas/_config/config.py?line=127'>128</a>\u001b[0m     key \u001b[39m=\u001b[39m _get_single_key(pat, silent)\n\u001b[1;32m    <a href='file:///Users/kii/opt/anaconda3/lib/python3.9/site-packages/pandas/_config/config.py?line=129'>130</a>\u001b[0m     \u001b[39m# walk the nested dict\u001b[39;00m\n",
      "File \u001b[0;32m~/opt/anaconda3/lib/python3.9/site-packages/pandas/_config/config.py:114\u001b[0m, in \u001b[0;36m_get_single_key\u001b[0;34m(pat, silent)\u001b[0m\n\u001b[1;32m    <a href='file:///Users/kii/opt/anaconda3/lib/python3.9/site-packages/pandas/_config/config.py?line=112'>113</a>\u001b[0m         _warn_if_deprecated(pat)\n\u001b[0;32m--> <a href='file:///Users/kii/opt/anaconda3/lib/python3.9/site-packages/pandas/_config/config.py?line=113'>114</a>\u001b[0m     \u001b[39mraise\u001b[39;00m OptionError(\u001b[39mf\u001b[39m\u001b[39m\"\u001b[39m\u001b[39mNo such keys(s): \u001b[39m\u001b[39m{\u001b[39;00m\u001b[39mrepr\u001b[39m(pat)\u001b[39m}\u001b[39;00m\u001b[39m\"\u001b[39m)\n\u001b[1;32m    <a href='file:///Users/kii/opt/anaconda3/lib/python3.9/site-packages/pandas/_config/config.py?line=114'>115</a>\u001b[0m \u001b[39mif\u001b[39;00m \u001b[39mlen\u001b[39m(keys) \u001b[39m>\u001b[39m \u001b[39m1\u001b[39m:\n",
      "\u001b[0;31mOptionError\u001b[0m: \"No such keys(s): 'io.excel..writer'\"",
      "\nThe above exception was the direct cause of the following exception:\n",
      "\u001b[0;31mValueError\u001b[0m                                Traceback (most recent call last)",
      "\u001b[1;32m/Users/kii/work/python/python-study/test/test.ipynb Cell 3'\u001b[0m in \u001b[0;36m<cell line: 9>\u001b[0;34m()\u001b[0m\n\u001b[1;32m      <a href='vscode-notebook-cell:/Users/kii/work/python/python-study/test/test.ipynb#ch0000002?line=5'>6</a>\u001b[0m num_chugoku \u001b[39m=\u001b[39m \u001b[39mlen\u001b[39m(df_chugoku)\n\u001b[1;32m      <a href='vscode-notebook-cell:/Users/kii/work/python/python-study/test/test.ipynb#ch0000002?line=6'>7</a>\u001b[0m num_kyushu \u001b[39m=\u001b[39m \u001b[39mlen\u001b[39m(df_kyushu)\n\u001b[0;32m----> <a href='vscode-notebook-cell:/Users/kii/work/python/python-study/test/test.ipynb#ch0000002?line=8'>9</a>\u001b[0m df_all\u001b[39m.\u001b[39;49mto_excel(\u001b[39mf\u001b[39;49m\u001b[39m'\u001b[39;49m\u001b[39m\\\\\u001b[39;49;00m\u001b[39m外部IDあり_差異チェック結果結合（ALL）\u001b[39;49m\u001b[39m'\u001b[39;49m)\n\u001b[1;32m     <a href='vscode-notebook-cell:/Users/kii/work/python/python-study/test/test.ipynb#ch0000002?line=9'>10</a>\u001b[0m df_tohoku\u001b[39m.\u001b[39mto_excel(\u001b[39mf\u001b[39m\u001b[39m'\u001b[39m\u001b[39m\\\\\u001b[39;00m\u001b[39m①ALL更新ありデータ_北海道・東北（\u001b[39m\u001b[39m{\u001b[39;00mnum_tohoku\u001b[39m}\u001b[39;00m\u001b[39m件）\u001b[39m\u001b[39m'\u001b[39m)\n\u001b[1;32m     <a href='vscode-notebook-cell:/Users/kii/work/python/python-study/test/test.ipynb#ch0000002?line=10'>11</a>\u001b[0m df_kanto\u001b[39m.\u001b[39mto_excel(\u001b[39mf\u001b[39m\u001b[39m'\u001b[39m\u001b[39m\\\\\u001b[39;00m\u001b[39m②ALL更新ありデータ_関東東京以外（\u001b[39m\u001b[39m{\u001b[39;00mnum_kanto\u001b[39m}\u001b[39;00m\u001b[39m件）\u001b[39m\u001b[39m'\u001b[39m)\n",
      "File \u001b[0;32m~/opt/anaconda3/lib/python3.9/site-packages/pandas/core/generic.py:2345\u001b[0m, in \u001b[0;36mNDFrame.to_excel\u001b[0;34m(self, excel_writer, sheet_name, na_rep, float_format, columns, header, index, index_label, startrow, startcol, engine, merge_cells, encoding, inf_rep, verbose, freeze_panes, storage_options)\u001b[0m\n\u001b[1;32m   <a href='file:///Users/kii/opt/anaconda3/lib/python3.9/site-packages/pandas/core/generic.py?line=2331'>2332</a>\u001b[0m \u001b[39mfrom\u001b[39;00m \u001b[39mpandas\u001b[39;00m\u001b[39m.\u001b[39;00m\u001b[39mio\u001b[39;00m\u001b[39m.\u001b[39;00m\u001b[39mformats\u001b[39;00m\u001b[39m.\u001b[39;00m\u001b[39mexcel\u001b[39;00m \u001b[39mimport\u001b[39;00m ExcelFormatter\n\u001b[1;32m   <a href='file:///Users/kii/opt/anaconda3/lib/python3.9/site-packages/pandas/core/generic.py?line=2333'>2334</a>\u001b[0m formatter \u001b[39m=\u001b[39m ExcelFormatter(\n\u001b[1;32m   <a href='file:///Users/kii/opt/anaconda3/lib/python3.9/site-packages/pandas/core/generic.py?line=2334'>2335</a>\u001b[0m     df,\n\u001b[1;32m   <a href='file:///Users/kii/opt/anaconda3/lib/python3.9/site-packages/pandas/core/generic.py?line=2335'>2336</a>\u001b[0m     na_rep\u001b[39m=\u001b[39mna_rep,\n\u001b[0;32m   (...)\u001b[0m\n\u001b[1;32m   <a href='file:///Users/kii/opt/anaconda3/lib/python3.9/site-packages/pandas/core/generic.py?line=2342'>2343</a>\u001b[0m     inf_rep\u001b[39m=\u001b[39minf_rep,\n\u001b[1;32m   <a href='file:///Users/kii/opt/anaconda3/lib/python3.9/site-packages/pandas/core/generic.py?line=2343'>2344</a>\u001b[0m )\n\u001b[0;32m-> <a href='file:///Users/kii/opt/anaconda3/lib/python3.9/site-packages/pandas/core/generic.py?line=2344'>2345</a>\u001b[0m formatter\u001b[39m.\u001b[39;49mwrite(\n\u001b[1;32m   <a href='file:///Users/kii/opt/anaconda3/lib/python3.9/site-packages/pandas/core/generic.py?line=2345'>2346</a>\u001b[0m     excel_writer,\n\u001b[1;32m   <a href='file:///Users/kii/opt/anaconda3/lib/python3.9/site-packages/pandas/core/generic.py?line=2346'>2347</a>\u001b[0m     sheet_name\u001b[39m=\u001b[39;49msheet_name,\n\u001b[1;32m   <a href='file:///Users/kii/opt/anaconda3/lib/python3.9/site-packages/pandas/core/generic.py?line=2347'>2348</a>\u001b[0m     startrow\u001b[39m=\u001b[39;49mstartrow,\n\u001b[1;32m   <a href='file:///Users/kii/opt/anaconda3/lib/python3.9/site-packages/pandas/core/generic.py?line=2348'>2349</a>\u001b[0m     startcol\u001b[39m=\u001b[39;49mstartcol,\n\u001b[1;32m   <a href='file:///Users/kii/opt/anaconda3/lib/python3.9/site-packages/pandas/core/generic.py?line=2349'>2350</a>\u001b[0m     freeze_panes\u001b[39m=\u001b[39;49mfreeze_panes,\n\u001b[1;32m   <a href='file:///Users/kii/opt/anaconda3/lib/python3.9/site-packages/pandas/core/generic.py?line=2350'>2351</a>\u001b[0m     engine\u001b[39m=\u001b[39;49mengine,\n\u001b[1;32m   <a href='file:///Users/kii/opt/anaconda3/lib/python3.9/site-packages/pandas/core/generic.py?line=2351'>2352</a>\u001b[0m     storage_options\u001b[39m=\u001b[39;49mstorage_options,\n\u001b[1;32m   <a href='file:///Users/kii/opt/anaconda3/lib/python3.9/site-packages/pandas/core/generic.py?line=2352'>2353</a>\u001b[0m )\n",
      "File \u001b[0;32m~/opt/anaconda3/lib/python3.9/site-packages/pandas/io/formats/excel.py:888\u001b[0m, in \u001b[0;36mExcelFormatter.write\u001b[0;34m(self, writer, sheet_name, startrow, startcol, freeze_panes, engine, storage_options)\u001b[0m\n\u001b[1;32m    <a href='file:///Users/kii/opt/anaconda3/lib/python3.9/site-packages/pandas/io/formats/excel.py?line=883'>884</a>\u001b[0m     need_save \u001b[39m=\u001b[39m \u001b[39mFalse\u001b[39;00m\n\u001b[1;32m    <a href='file:///Users/kii/opt/anaconda3/lib/python3.9/site-packages/pandas/io/formats/excel.py?line=884'>885</a>\u001b[0m \u001b[39melse\u001b[39;00m:\n\u001b[1;32m    <a href='file:///Users/kii/opt/anaconda3/lib/python3.9/site-packages/pandas/io/formats/excel.py?line=885'>886</a>\u001b[0m     \u001b[39m# error: Cannot instantiate abstract class 'ExcelWriter' with abstract\u001b[39;00m\n\u001b[1;32m    <a href='file:///Users/kii/opt/anaconda3/lib/python3.9/site-packages/pandas/io/formats/excel.py?line=886'>887</a>\u001b[0m     \u001b[39m# attributes 'engine', 'save', 'supported_extensions' and 'write_cells'\u001b[39;00m\n\u001b[0;32m--> <a href='file:///Users/kii/opt/anaconda3/lib/python3.9/site-packages/pandas/io/formats/excel.py?line=887'>888</a>\u001b[0m     writer \u001b[39m=\u001b[39m ExcelWriter(  \u001b[39m# type: ignore[abstract]\u001b[39;49;00m\n\u001b[1;32m    <a href='file:///Users/kii/opt/anaconda3/lib/python3.9/site-packages/pandas/io/formats/excel.py?line=888'>889</a>\u001b[0m         writer, engine\u001b[39m=\u001b[39;49mengine, storage_options\u001b[39m=\u001b[39;49mstorage_options\n\u001b[1;32m    <a href='file:///Users/kii/opt/anaconda3/lib/python3.9/site-packages/pandas/io/formats/excel.py?line=889'>890</a>\u001b[0m     )\n\u001b[1;32m    <a href='file:///Users/kii/opt/anaconda3/lib/python3.9/site-packages/pandas/io/formats/excel.py?line=890'>891</a>\u001b[0m     need_save \u001b[39m=\u001b[39m \u001b[39mTrue\u001b[39;00m\n\u001b[1;32m    <a href='file:///Users/kii/opt/anaconda3/lib/python3.9/site-packages/pandas/io/formats/excel.py?line=892'>893</a>\u001b[0m \u001b[39mtry\u001b[39;00m:\n",
      "File \u001b[0;32m~/opt/anaconda3/lib/python3.9/site-packages/pandas/io/excel/_base.py:1003\u001b[0m, in \u001b[0;36mExcelWriter.__new__\u001b[0;34m(cls, path, engine, date_format, datetime_format, mode, storage_options, if_sheet_exists, engine_kwargs, **kwargs)\u001b[0m\n\u001b[1;32m   <a href='file:///Users/kii/opt/anaconda3/lib/python3.9/site-packages/pandas/io/excel/_base.py?line=1000'>1001</a>\u001b[0m             engine \u001b[39m=\u001b[39m get_default_engine(ext, mode\u001b[39m=\u001b[39m\u001b[39m\"\u001b[39m\u001b[39mwriter\u001b[39m\u001b[39m\"\u001b[39m)\n\u001b[1;32m   <a href='file:///Users/kii/opt/anaconda3/lib/python3.9/site-packages/pandas/io/excel/_base.py?line=1001'>1002</a>\u001b[0m     \u001b[39mexcept\u001b[39;00m \u001b[39mKeyError\u001b[39;00m \u001b[39mas\u001b[39;00m err:\n\u001b[0;32m-> <a href='file:///Users/kii/opt/anaconda3/lib/python3.9/site-packages/pandas/io/excel/_base.py?line=1002'>1003</a>\u001b[0m         \u001b[39mraise\u001b[39;00m \u001b[39mValueError\u001b[39;00m(\u001b[39mf\u001b[39m\u001b[39m\"\u001b[39m\u001b[39mNo engine for filetype: \u001b[39m\u001b[39m'\u001b[39m\u001b[39m{\u001b[39;00mext\u001b[39m}\u001b[39;00m\u001b[39m'\u001b[39m\u001b[39m\"\u001b[39m) \u001b[39mfrom\u001b[39;00m \u001b[39merr\u001b[39;00m\n\u001b[1;32m   <a href='file:///Users/kii/opt/anaconda3/lib/python3.9/site-packages/pandas/io/excel/_base.py?line=1004'>1005</a>\u001b[0m \u001b[39mif\u001b[39;00m engine \u001b[39m==\u001b[39m \u001b[39m\"\u001b[39m\u001b[39mxlwt\u001b[39m\u001b[39m\"\u001b[39m:\n\u001b[1;32m   <a href='file:///Users/kii/opt/anaconda3/lib/python3.9/site-packages/pandas/io/excel/_base.py?line=1005'>1006</a>\u001b[0m     xls_config_engine \u001b[39m=\u001b[39m config\u001b[39m.\u001b[39mget_option(\n\u001b[1;32m   <a href='file:///Users/kii/opt/anaconda3/lib/python3.9/site-packages/pandas/io/excel/_base.py?line=1006'>1007</a>\u001b[0m         \u001b[39m\"\u001b[39m\u001b[39mio.excel.xls.writer\u001b[39m\u001b[39m\"\u001b[39m, silent\u001b[39m=\u001b[39m\u001b[39mTrue\u001b[39;00m\n\u001b[1;32m   <a href='file:///Users/kii/opt/anaconda3/lib/python3.9/site-packages/pandas/io/excel/_base.py?line=1007'>1008</a>\u001b[0m     )\n",
      "\u001b[0;31mValueError\u001b[0m: No engine for filetype: ''"
     ]
    }
   ],
   "source": [
    "num_tohoku = len(df_tohoku)\n",
    "num_kanto = len(df_kanto)\n",
    "num_tokyo = len(df_tokyo)\n",
    "num_hokuriku = len(df_hokuriku)\n",
    "num_kansai = len(df_kansai)\n",
    "num_chugoku = len(df_chugoku)\n",
    "num_kyushu = len(df_kyushu)\n",
    "\n",
    "df_all.to_excel(f'\\\\外部IDあり_差異チェック結果結合（ALL）')\n",
    "df_tohoku.to_excel(f'\\\\①ALL更新ありデータ_北海道・東北（{num_tohoku}件）')\n",
    "df_kanto.to_excel(f'\\\\②ALL更新ありデータ_関東東京以外（{num_kanto}件）')\n",
    "df_tokyo.to_excel(f'\\\\③ALL更新ありデータ_東京（{num_tokyo}件')\n",
    "df_hokuriku.to_excel(f'\\\\④ALL更新ありデータ_北陸・信越・東海（{num_hokuriku}件）')\n",
    "df_kansai.to_excel(f'\\\\⑤ALL更新ありデータ_近畿・関西（{num_kansai}件）')\n",
    "df_chugoku.to_excel(f'\\\\⑥ALL更新ありデータ_中国・四国（{num_chugoku}件）')\n",
    "df_kyushu.to_excel(f'\\\\⑦ALL更新ありデータ_九州・沖縄（{num_kyushu}件）')"
   ]
  },
  {
   "cell_type": "code",
   "execution_count": null,
   "metadata": {},
   "outputs": [],
   "source": [
    "name = '埼の何か'\n",
    "if ('東京' in name or '埼玉' in name):\n",
    "    print(True)"
   ]
  },
  {
   "cell_type": "code",
   "execution_count": 54,
   "metadata": {},
   "outputs": [],
   "source": [
    "import pandas as pd\n",
    "df = pd.DataFrame()"
   ]
  },
  {
   "cell_type": "code",
   "execution_count": 55,
   "metadata": {},
   "outputs": [],
   "source": [
    "value = [\"aaa\",\"AAA\", \"bbb\",\"aaa\"]\n",
    "num = [1,2,3,4]"
   ]
  },
  {
   "cell_type": "code",
   "execution_count": 56,
   "metadata": {},
   "outputs": [
    {
     "data": {
      "text/html": [
       "<div>\n",
       "<style scoped>\n",
       "    .dataframe tbody tr th:only-of-type {\n",
       "        vertical-align: middle;\n",
       "    }\n",
       "\n",
       "    .dataframe tbody tr th {\n",
       "        vertical-align: top;\n",
       "    }\n",
       "\n",
       "    .dataframe thead th {\n",
       "        text-align: right;\n",
       "    }\n",
       "</style>\n",
       "<table border=\"1\" class=\"dataframe\">\n",
       "  <thead>\n",
       "    <tr style=\"text-align: right;\">\n",
       "      <th></th>\n",
       "      <th>id</th>\n",
       "      <th>値</th>\n",
       "    </tr>\n",
       "  </thead>\n",
       "  <tbody>\n",
       "    <tr>\n",
       "      <th>0</th>\n",
       "      <td>1</td>\n",
       "      <td>aaa</td>\n",
       "    </tr>\n",
       "    <tr>\n",
       "      <th>1</th>\n",
       "      <td>2</td>\n",
       "      <td>AAA</td>\n",
       "    </tr>\n",
       "    <tr>\n",
       "      <th>2</th>\n",
       "      <td>3</td>\n",
       "      <td>bbb</td>\n",
       "    </tr>\n",
       "    <tr>\n",
       "      <th>3</th>\n",
       "      <td>4</td>\n",
       "      <td>aaa</td>\n",
       "    </tr>\n",
       "  </tbody>\n",
       "</table>\n",
       "</div>"
      ],
      "text/plain": [
       "   id    値\n",
       "0   1  aaa\n",
       "1   2  AAA\n",
       "2   3  bbb\n",
       "3   4  aaa"
      ]
     },
     "execution_count": 56,
     "metadata": {},
     "output_type": "execute_result"
    }
   ],
   "source": [
    "df['id'] = num\n",
    "df[\"値\"] = value\n",
    "df"
   ]
  },
  {
   "cell_type": "code",
   "execution_count": 58,
   "metadata": {},
   "outputs": [],
   "source": [
    "df = df.drop_duplicates(subset=\"値\")"
   ]
  },
  {
   "cell_type": "code",
   "execution_count": 59,
   "metadata": {},
   "outputs": [
    {
     "data": {
      "text/html": [
       "<div>\n",
       "<style scoped>\n",
       "    .dataframe tbody tr th:only-of-type {\n",
       "        vertical-align: middle;\n",
       "    }\n",
       "\n",
       "    .dataframe tbody tr th {\n",
       "        vertical-align: top;\n",
       "    }\n",
       "\n",
       "    .dataframe thead th {\n",
       "        text-align: right;\n",
       "    }\n",
       "</style>\n",
       "<table border=\"1\" class=\"dataframe\">\n",
       "  <thead>\n",
       "    <tr style=\"text-align: right;\">\n",
       "      <th></th>\n",
       "      <th>id</th>\n",
       "      <th>値</th>\n",
       "    </tr>\n",
       "  </thead>\n",
       "  <tbody>\n",
       "    <tr>\n",
       "      <th>0</th>\n",
       "      <td>1</td>\n",
       "      <td>aaa</td>\n",
       "    </tr>\n",
       "    <tr>\n",
       "      <th>1</th>\n",
       "      <td>2</td>\n",
       "      <td>AAA</td>\n",
       "    </tr>\n",
       "    <tr>\n",
       "      <th>2</th>\n",
       "      <td>3</td>\n",
       "      <td>bbb</td>\n",
       "    </tr>\n",
       "  </tbody>\n",
       "</table>\n",
       "</div>"
      ],
      "text/plain": [
       "   id    値\n",
       "0   1  aaa\n",
       "1   2  AAA\n",
       "2   3  bbb"
      ]
     },
     "execution_count": 59,
     "metadata": {},
     "output_type": "execute_result"
    }
   ],
   "source": [
    "df"
   ]
  },
  {
   "cell_type": "code",
   "execution_count": null,
   "metadata": {},
   "outputs": [],
   "source": []
  }
 ],
 "metadata": {
  "interpreter": {
   "hash": "bab484d906b2f18946df9f1d3f9afe7b18e4da337495264419bb66ea8a340375"
  },
  "kernelspec": {
   "display_name": "Python 3.9.12 ('base')",
   "language": "python",
   "name": "python3"
  },
  "language_info": {
   "codemirror_mode": {
    "name": "ipython",
    "version": 3
   },
   "file_extension": ".py",
   "mimetype": "text/x-python",
   "name": "python",
   "nbconvert_exporter": "python",
   "pygments_lexer": "ipython3",
   "version": "3.9.12"
  },
  "orig_nbformat": 4
 },
 "nbformat": 4,
 "nbformat_minor": 2
}
