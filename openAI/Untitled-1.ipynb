{
 "cells": [
  {
   "cell_type": "code",
   "execution_count": 10,
   "metadata": {},
   "outputs": [
    {
     "name": "stdout",
     "output_type": "stream",
     "text": [
      "月が満ち欠けする理由は、地球と月との相対位置の変化に起因しています。月は太陽からの光を反射しているため、月の位置によって地球から見える月の形が変わります。月が地球の周りを回っているため、さまざまな位置にいるため、月が見える範囲も変わります。また、地球が太陽のまわりを回るため、太陽の光の方向も変わります。これらの要因が合わさって、月の満ち欠けのパターンが生じます。\n"
     ]
    }
   ],
   "source": [
    "import openai\n",
    "import os\n",
    "import json\n",
    "\n",
    "with open('openai_key.json') as f:\n",
    "    api_keys = json.load(f)\n",
    "\n",
    "ORGANIZATION = api_keys['ORGANIZATION']\n",
    "OPENAI_API_KEY = api_keys['OPENAI_API_KEY']\n",
    "\n",
    "openai.organization = ORGANIZATION\n",
    "openai.api_key = OPENAI_API_KEY\n",
    "openai.Model.list()\n",
    "\n",
    "# role：役割\n",
    "# system(チャットシステム)\n",
    "# user(使う側)\n",
    "# assistant(ChatGPT)\n",
    "\n",
    "res = openai.ChatCompletion.create(\n",
    "    model=\"gpt-3.5-turbo\",\n",
    "    messages=[\n",
    "        {'role': 'system', 'content': 'You are a helpful assistant.'}, # 御作法\n",
    "        {'role': 'user', 'content': 'なぜ月は満ち欠けするのですか？'},\n",
    "    ]\n",
    ")\n",
    "\n",
    "# 返答の内容\n",
    "res_content = res['choices'][0]['message']['content']\n",
    "print(res_content)"
   ]
  },
  {
   "cell_type": "code",
   "execution_count": 11,
   "metadata": {},
   "outputs": [
    {
     "data": {
      "text/plain": [
       "<OpenAIObject chat.completion id=chatcmpl-6zUkM2xakJrOpejPZisvhSMWkmANG at 0x7fcb857fd4f0> JSON: {\n",
       "  \"choices\": [\n",
       "    {\n",
       "      \"finish_reason\": \"stop\",\n",
       "      \"index\": 0,\n",
       "      \"message\": {\n",
       "        \"content\": \"\\u6708\\u304c\\u6e80\\u3061\\u6b20\\u3051\\u3059\\u308b\\u7406\\u7531\\u306f\\u3001\\u5730\\u7403\\u3068\\u6708\\u3068\\u306e\\u76f8\\u5bfe\\u4f4d\\u7f6e\\u306e\\u5909\\u5316\\u306b\\u8d77\\u56e0\\u3057\\u3066\\u3044\\u307e\\u3059\\u3002\\u6708\\u306f\\u592a\\u967d\\u304b\\u3089\\u306e\\u5149\\u3092\\u53cd\\u5c04\\u3057\\u3066\\u3044\\u308b\\u305f\\u3081\\u3001\\u6708\\u306e\\u4f4d\\u7f6e\\u306b\\u3088\\u3063\\u3066\\u5730\\u7403\\u304b\\u3089\\u898b\\u3048\\u308b\\u6708\\u306e\\u5f62\\u304c\\u5909\\u308f\\u308a\\u307e\\u3059\\u3002\\u6708\\u304c\\u5730\\u7403\\u306e\\u5468\\u308a\\u3092\\u56de\\u3063\\u3066\\u3044\\u308b\\u305f\\u3081\\u3001\\u3055\\u307e\\u3056\\u307e\\u306a\\u4f4d\\u7f6e\\u306b\\u3044\\u308b\\u305f\\u3081\\u3001\\u6708\\u304c\\u898b\\u3048\\u308b\\u7bc4\\u56f2\\u3082\\u5909\\u308f\\u308a\\u307e\\u3059\\u3002\\u307e\\u305f\\u3001\\u5730\\u7403\\u304c\\u592a\\u967d\\u306e\\u307e\\u308f\\u308a\\u3092\\u56de\\u308b\\u305f\\u3081\\u3001\\u592a\\u967d\\u306e\\u5149\\u306e\\u65b9\\u5411\\u3082\\u5909\\u308f\\u308a\\u307e\\u3059\\u3002\\u3053\\u308c\\u3089\\u306e\\u8981\\u56e0\\u304c\\u5408\\u308f\\u3055\\u3063\\u3066\\u3001\\u6708\\u306e\\u6e80\\u3061\\u6b20\\u3051\\u306e\\u30d1\\u30bf\\u30fc\\u30f3\\u304c\\u751f\\u3058\\u307e\\u3059\\u3002\",\n",
       "        \"role\": \"assistant\"\n",
       "      }\n",
       "    }\n",
       "  ],\n",
       "  \"created\": 1680114218,\n",
       "  \"id\": \"chatcmpl-6zUkM2xakJrOpejPZisvhSMWkmANG\",\n",
       "  \"model\": \"gpt-3.5-turbo-0301\",\n",
       "  \"object\": \"chat.completion\",\n",
       "  \"usage\": {\n",
       "    \"completion_tokens\": 183,\n",
       "    \"prompt_tokens\": 35,\n",
       "    \"total_tokens\": 218\n",
       "  }\n",
       "}"
      ]
     },
     "execution_count": 11,
     "metadata": {},
     "output_type": "execute_result"
    }
   ],
   "source": [
    "res"
   ]
  },
  {
   "cell_type": "code",
   "execution_count": null,
   "metadata": {},
   "outputs": [],
   "source": []
  }
 ],
 "metadata": {
  "interpreter": {
   "hash": "82232de28859a7895267f13f85790cb2620135cd95be6c2846e68d0ad16ba952"
  },
  "kernelspec": {
   "display_name": "Python 3.9.12 ('pyenv')",
   "language": "python",
   "name": "python3"
  },
  "language_info": {
   "codemirror_mode": {
    "name": "ipython",
    "version": 3
   },
   "file_extension": ".py",
   "mimetype": "text/x-python",
   "name": "python",
   "nbconvert_exporter": "python",
   "pygments_lexer": "ipython3",
   "version": "3.9.12"
  },
  "orig_nbformat": 4
 },
 "nbformat": 4,
 "nbformat_minor": 2
}
