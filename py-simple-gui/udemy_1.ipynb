{
 "cells": [
  {
   "cell_type": "code",
   "execution_count": 15,
   "metadata": {},
   "outputs": [],
   "source": [
    "import PySimpleGUI as sg\n",
    "\n",
    "# sg.popup('Hello PysimpleGUI!', '最も簡単なGUIプログラム')\n",
    "\n",
    "sg.theme('Reddit')\n",
    "\n",
    "font_udp_s = ('BIZ UDPゴシック',12)\n",
    "font_udp_m = ('BIZ UDPゴシック',16)\n",
    "font_udp_l = ('BIZ UDPゴシック',20)\n",
    "\n",
    "layout = [\n",
    "    [sg.Text('Hello PySimpleGUI!はじめてのGUIプログラム')],\n",
    "    [sg.Text('2行目のテキストエリア', font=font_udp_s,text_color='#228b22')],\n",
    "    [sg.Text('3行目のテキストエリア', font=font_udp_m,text_color='#4169e1')],\n",
    "    [sg.Text('4行目のテキストエリア', font=font_udp_l,text_color='#ff8c00')]\n",
    "]\n",
    "\n",
    "window = sg.Window('Second window Title', layout)\n",
    "\n",
    "while True:\n",
    "    event, value = window.read() # イベント入力を待つ\n",
    "    if event is None:\n",
    "        break\n",
    "window.close()"
   ]
  },
  {
   "cell_type": "code",
   "execution_count": 1,
   "metadata": {},
   "outputs": [],
   "source": [
    "import PySimpleGUI as sg\n",
    "\n",
    "# sg.popup('Hello PysimpleGUI!', '最も簡単なGUIプログラム')\n",
    "\n",
    "layout = [\n",
    "    [sg.Text('Hello PySimpleGUI!はじめてのGUIプログラム')],\n",
    "    [sg.InputText(key = '-input1-')],\n",
    "    # ファイルの絶対パスを取得\n",
    "    [sg.InputText(), sg.FileBrowse()],\n",
    "\n",
    "    # フォルダの絶対パスを取得\n",
    "    [sg.InputText(), sg.FolderBrowse()],\n",
    "\n",
    "    # ラジオボタンを設置\n",
    "    [sg.Radio('ラジオボタン１', 'group1', default = True, key='-rbtn1-'), \n",
    "    sg.Radio('ラジオボタン2', 'group1', key='-rbtn2-')],\n",
    "\n",
    "    # チェックボックスを設置\n",
    "    [sg.Checkbox('CB1', default=True, key = '-CB1-'),\n",
    "    sg.Checkbox('CB2', key = '-CB2-'),\n",
    "    sg.Checkbox('CB3', key = '-CB3-')]\n",
    "\n",
    "    [sg.Button('Click', key='-btn1-')]\n",
    "]\n",
    "\n",
    "window = sg.Window('GUI Button', layout)\n",
    "\n",
    "while True:\n",
    "    event, value = window.read() # イベント入力を待つ\n",
    "    if event == '-btn1-':\n",
    "        # 選択があった場合\n",
    "        if value['-rbtn2-'] == True :\n",
    "            sg.popup(value['-input1-'])\n",
    "    if event is None:\n",
    "        break\n",
    "window.close()"
   ]
  },
  {
   "cell_type": "code",
   "execution_count": 10,
   "metadata": {},
   "outputs": [
    {
     "name": "stdout",
     "output_type": "stream",
     "text": [
      "('Academy Engraved LET', 'Al Bayan', 'Al Nile', 'Al Tarikh', 'American Typewriter', 'Andale Mono', 'Apple Braille', 'Apple Chancery', 'Apple Color Emoji', 'Apple LiGothic', 'Apple LiSung', 'Apple SD Gothic Neo', 'Apple Symbols', 'AppleGothic', 'AppleMyungjo', 'Arial', 'Arial Black', 'Arial Hebrew', 'Arial Hebrew Scholar', 'Arial Narrow', 'Arial Rounded MT Bold', 'Arial Unicode MS', 'Avenir', 'Avenir Next', 'Avenir Next Condensed', 'Ayuthaya', 'Baghdad', 'Bangla MN', 'Bangla Sangam MN', 'Baoli SC', 'Baoli TC', 'Baskerville', 'Beirut', 'BiauKai', 'Big Caslon', 'BM Dohyeon', 'BM Hanna 11yrs Old', 'BM Hanna Air', 'BM Hanna Pro', 'BM Jua', 'BM Kirang Haerang', 'BM Yeonsung', 'Bodoni 72', 'Bodoni 72 Oldstyle', 'Bodoni 72 Smallcaps', 'Bodoni Ornaments', 'Bradley Hand', 'Brush Script MT', 'Chalkboard', 'Chalkboard SE', 'Chalkduster', 'Charter', 'Cochin', 'Comic Sans MS', 'Copperplate', 'Corsiva Hebrew', 'Courier New', 'Damascus', 'DecoType Naskh', 'Devanagari MT', 'Devanagari Sangam MN', 'Didot', 'DIN Alternate', 'DIN Condensed', 'Diwan Kufi', 'Diwan Thuluth', 'Euphemia UCAS', 'Farah', 'Farisi', 'Futura', 'Galvji', 'GB18030 Bitmap', 'Geeza Pro', 'Geneva', 'Georgia', 'Gill Sans', 'Grantha Sangam MN', 'Gujarati MT', 'Gujarati Sangam MN', 'GungSeo', 'Gurmukhi MN', 'Gurmukhi MT', 'Gurmukhi Sangam MN', 'Hannotate SC', 'Hannotate TC', 'HanziPen SC', 'HanziPen TC', 'HeadLineA', 'Hei', 'Helvetica', 'Helvetica Neue', 'Herculanum', 'Hoefler Text', 'Impact', 'InaiMathi', 'ITF Devanagari', 'ITF Devanagari Marathi', 'Kai', 'Kailasa', 'Kaiti SC', 'Kaiti TC', 'Kannada MN', 'Kannada Sangam MN', 'Kefa', 'Khmer MN', 'Khmer Sangam MN', 'Kohinoor Bangla', 'Kohinoor Devanagari', 'Kohinoor Gujarati', 'Kohinoor Telugu', 'Kokonor', 'Krungthep', 'KufiStandardGK', 'Lantinghei SC', 'Lantinghei TC', 'Lao MN', 'Lao Sangam MN', 'Libian SC', 'Libian TC', 'LiHei Pro', 'LingWai SC', 'LingWai TC', 'LiSong Pro', 'Lucida Grande', 'Luminari', 'Malayalam MN', 'Malayalam Sangam MN', 'Marker Felt', 'Menlo', 'Microsoft Sans Serif', 'Mishafi', 'Mishafi Gold', 'Monaco', 'Mshtakan', 'Mukta Mahee', 'Muna', 'Myanmar MN', 'Myanmar Sangam MN', 'Nadeem', 'Nanum Brush Script', 'Nanum Gothic', 'Nanum Myeongjo', 'Nanum Pen Script', 'New Peninim MT', 'Noteworthy', 'Noto Nastaliq Urdu', 'Noto Sans Kannada', 'Noto Sans Myanmar', 'Noto Sans Oriya', 'Noto Serif Myanmar', 'Optima', 'Oriya MN', 'Oriya Sangam MN', 'Osaka', 'Palatino', 'Papyrus', 'Party LET', 'PCMyungjo', 'Phosphate', 'PilGi', 'PingFang HK', 'PingFang SC', 'PingFang TC', 'Plantagenet Cherokee', 'PSL Ornanong Pro', 'PT Mono', 'PT Sans', 'PT Sans Caption', 'PT Sans Narrow', 'PT Serif', 'PT Serif Caption', 'Raanana', 'Rockwell', 'Sana', 'Sathu', 'Savoye LET', 'Shree Devanagari 714', 'SignPainter', 'Silom', 'SimSong', 'Sinhala MN', 'Sinhala Sangam MN', 'Skia', 'Snell Roundhand', 'Songti SC', 'Songti TC', 'STFangsong', 'STHeiti', 'STIXGeneral', 'STIXIntegralsD', 'STIXIntegralsSm', 'STIXIntegralsUp', 'STIXIntegralsUpD', 'STIXIntegralsUpSm', 'STIXNonUnicode', 'STIXSizeFiveSym', 'STIXSizeFourSym', 'STIXSizeOneSym', 'STIXSizeThreeSym', 'STIXSizeTwoSym', 'STIXVariants', 'STKaiti', 'STSong', 'Sukhumvit Set', 'Symbol', 'Tahoma', 'Tamil MN', 'Tamil Sangam MN', 'Telugu MN', 'Telugu Sangam MN', 'Thonburi', 'Times New Roman', 'Trattatello', 'Trebuchet MS', 'Verdana', 'Waseem', 'Wawati SC', 'Wawati TC', 'Webdings', 'Weibei SC', 'Weibei TC', 'Wingdings', 'Wingdings 2', 'Wingdings 3', 'Xingkai SC', 'Xingkai TC', 'Yuanti SC', 'Yuanti TC', 'Yuppy SC', 'Yuppy TC', 'Zapf Dingbats', 'Zapfino', 'Klee', 'Hiragino Sans GB', 'Hiragino Sans CNS', 'Hiragino Sans', 'Hiragino Maru Gothic ProN', 'Hiragino Mincho ProN', 'Heiti SC', 'Heiti TC', 'Tsukushi A Round Gothic', 'Tsukushi B Round Gothic', 'Toppan Bunkyu Gothic', 'Toppan Bunkyu Midashi Gothic', 'Toppan Bunkyu Midashi Mincho', 'Toppan Bunkyu Mincho', 'YuGothic', 'YuKyokasho', 'YuKyokasho Yoko', 'YuMincho', 'YuMincho +36p Kana')\n"
     ]
    }
   ],
   "source": [
    "# PySimpleGUIはTkinterベース\n",
    "import tkinter\n",
    "import tkinter.font\n",
    "\n",
    "tkinter.Tk()\n",
    "# こちらの記述でTkinterで使用可能なフォントを全て出力\n",
    "print(tkinter.font.families())"
   ]
  },
  {
   "cell_type": "code",
   "execution_count": null,
   "metadata": {},
   "outputs": [],
   "source": []
  }
 ],
 "metadata": {
  "interpreter": {
   "hash": "6e3b034470570cd20b7de1cfbe14068d39f54646a4801e222cd4d7166f94b091"
  },
  "kernelspec": {
   "display_name": "Python 3.9.12 ('stdenv')",
   "language": "python",
   "name": "python3"
  },
  "language_info": {
   "codemirror_mode": {
    "name": "ipython",
    "version": 3
   },
   "file_extension": ".py",
   "mimetype": "text/x-python",
   "name": "python",
   "nbconvert_exporter": "python",
   "pygments_lexer": "ipython3",
   "version": "3.9.12"
  },
  "orig_nbformat": 4
 },
 "nbformat": 4,
 "nbformat_minor": 2
}
