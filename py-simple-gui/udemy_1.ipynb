{
 "cells": [
  {
   "cell_type": "code",
   "execution_count": 5,
   "metadata": {},
   "outputs": [],
   "source": [
    "import PySimpleGUI as sg\n",
    "\n",
    "# sg.popup('Hello PysimpleGUI!', '最も簡単なGUIプログラム')\n",
    "\n",
    "layout = [\n",
    "    [sg.Text('Hello PySimpleGUI!はじめてのGUIプログラム')],\n",
    "    [sg.Text('2行目のテキストエリア')],\n",
    "    [sg.Text('3行目のテキストエリア')],\n",
    "    [sg.Text('4行目のテキストエリア')]\n",
    "]\n",
    "\n",
    "window = sg.Window('Second window Title', layout)\n",
    "\n",
    "while True:\n",
    "    event, value = window.read() # イベント入力を待つ\n",
    "    if event is None:\n",
    "        break\n",
    "window.close()"
   ]
  },
  {
   "cell_type": "code",
   "execution_count": null,
   "metadata": {},
   "outputs": [],
   "source": []
  }
 ],
 "metadata": {
  "interpreter": {
   "hash": "6e3b034470570cd20b7de1cfbe14068d39f54646a4801e222cd4d7166f94b091"
  },
  "kernelspec": {
   "display_name": "Python 3.9.12 ('stdenv')",
   "language": "python",
   "name": "python3"
  },
  "language_info": {
   "codemirror_mode": {
    "name": "ipython",
    "version": 3
   },
   "file_extension": ".py",
   "mimetype": "text/x-python",
   "name": "python",
   "nbconvert_exporter": "python",
   "pygments_lexer": "ipython3",
   "version": "3.9.12"
  },
  "orig_nbformat": 4
 },
 "nbformat": 4,
 "nbformat_minor": 2
}
