{
 "cells": [
  {
   "cell_type": "code",
   "execution_count": 3,
   "metadata": {},
   "outputs": [
    {
     "name": "stdout",
     "output_type": "stream",
     "text": [
      "A    0\n",
      "B    1\n",
      "C    3\n",
      "D    7\n",
      "dtype: int64\n",
      "   Z  Y  X  W\n",
      "A  0  1  3  5\n",
      "B  1  2  4  6\n",
      "C  2  3  5  7\n"
     ]
    }
   ],
   "source": [
    "import pandas as pd \n",
    "\n",
    "# Seriesの作成\n",
    "data = [0,1,3,7]\n",
    "idx = ['A','B','C','D']\n",
    "\n",
    "s = pd.Series(data, index = idx)\n",
    "\n",
    "print(s)\n",
    "\n",
    "# DataFrameの作成\n",
    "data = [\n",
    "    [0,1,3,5],\n",
    "    [1,2,4,6],\n",
    "    [2,3,5,7]\n",
    "]\n",
    "idx = ['A','B','C']\n",
    "col = ['Z','Y','X','W']\n",
    "\n",
    "df = pd.DataFrame(data, index = idx, columns = col)\n",
    "print(df)"
   ]
  },
  {
   "cell_type": "code",
   "execution_count": null,
   "metadata": {},
   "outputs": [],
   "source": []
  }
 ],
 "metadata": {
  "interpreter": {
   "hash": "6e3b034470570cd20b7de1cfbe14068d39f54646a4801e222cd4d7166f94b091"
  },
  "kernelspec": {
   "display_name": "Python 3.9.12 ('stdenv')",
   "language": "python",
   "name": "python3"
  },
  "language_info": {
   "codemirror_mode": {
    "name": "ipython",
    "version": 3
   },
   "file_extension": ".py",
   "mimetype": "text/x-python",
   "name": "python",
   "nbconvert_exporter": "python",
   "pygments_lexer": "ipython3",
   "version": "3.9.12"
  },
  "orig_nbformat": 4
 },
 "nbformat": 4,
 "nbformat_minor": 2
}
