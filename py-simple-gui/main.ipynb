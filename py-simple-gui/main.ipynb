{
 "cells": [
  {
   "cell_type": "code",
   "execution_count": 4,
   "metadata": {},
   "outputs": [],
   "source": [
    "import PySimpleGUI as sg\n",
    "\n",
    "# テーマを変更\n",
    "sg.theme('BluePurple')\n",
    "\n",
    "layout = [[sg.Text('名前：'), sg.InputText(key='-NAME-')],\n",
    "    [sg.Text('住所：'), sg.InputText(key='-ADDRESS-')],\n",
    "    [sg.Button('実行', key='-SUBMIT-')]\n",
    "]\n",
    "\n",
    "# レイアウトの名称とサイズの定\n",
    "window = sg.Window('きいapp', layout, size=(300,150))\n",
    "\n",
    "while True:\n",
    "    event, values = window.read()\n",
    "\n",
    "    # 実行時の動作\n",
    "    if event == '-SUBMIT-':\n",
    "        print(values['-NAME-'])\n",
    "        print(values['-ADDRESS-'])\n",
    "\n",
    "    # 閉じるボタンで停止\n",
    "    if event == sg.WIN_CLOSED:\n",
    "        break"
   ]
  },
  {
   "cell_type": "code",
   "execution_count": 3,
   "metadata": {},
   "outputs": [
    {
     "ename": "ValueError",
     "evalue": "invalid literal for int() with base 10: ''",
     "output_type": "error",
     "traceback": [
      "\u001b[0;31m---------------------------------------------------------------------------\u001b[0m",
      "\u001b[0;31mValueError\u001b[0m                                Traceback (most recent call last)",
      "\u001b[1;32mUntitled-1.ipynb Cell 2'\u001b[0m in \u001b[0;36m<cell line: 9>\u001b[0;34m()\u001b[0m\n\u001b[1;32m      <a href='vscode-notebook-cell:Untitled-1.ipynb?jupyter-notebook#ch0000001untitled?line=8'>9</a>\u001b[0m event, values \u001b[39m=\u001b[39m window\u001b[39m.\u001b[39mread()\n\u001b[1;32m     <a href='vscode-notebook-cell:Untitled-1.ipynb?jupyter-notebook#ch0000001untitled?line=9'>10</a>\u001b[0m \u001b[39mif\u001b[39;00m event \u001b[39m==\u001b[39m \u001b[39m'\u001b[39m\u001b[39m-SUBMIT-\u001b[39m\u001b[39m'\u001b[39m:\n\u001b[0;32m---> <a href='vscode-notebook-cell:Untitled-1.ipynb?jupyter-notebook#ch0000001untitled?line=10'>11</a>\u001b[0m     total \u001b[39m=\u001b[39m \u001b[39m150\u001b[39m\u001b[39m*\u001b[39m\u001b[39mint\u001b[39;49m(values[\u001b[39m'\u001b[39;49m\u001b[39m-QUANTITY-\u001b[39;49m\u001b[39m'\u001b[39;49m])\n\u001b[1;32m     <a href='vscode-notebook-cell:Untitled-1.ipynb?jupyter-notebook#ch0000001untitled?line=11'>12</a>\u001b[0m     window[\u001b[39m'\u001b[39m\u001b[39m-AMOUNT-\u001b[39m\u001b[39m'\u001b[39m]\u001b[39m.\u001b[39mupdate(value\u001b[39m=\u001b[39m\u001b[39mf\u001b[39m\u001b[39m'\u001b[39m\u001b[39m金額：\u001b[39m\u001b[39m{\u001b[39;00mtotal\u001b[39m}\u001b[39;00m\u001b[39m'\u001b[39m)\n\u001b[1;32m     <a href='vscode-notebook-cell:Untitled-1.ipynb?jupyter-notebook#ch0000001untitled?line=12'>13</a>\u001b[0m \u001b[39mif\u001b[39;00m event \u001b[39m==\u001b[39m sg\u001b[39m.\u001b[39mWIN_CLOSED:\n",
      "\u001b[0;31mValueError\u001b[0m: invalid literal for int() with base 10: ''"
     ]
    }
   ],
   "source": [
    "import PySimpleGUI as sg\n",
    "\n",
    "layout = [[sg.Text('牛乳（150円）:'),\n",
    "    sg.Combo(list(range(1,11)), key='-QUANTITY-'),\n",
    "    sg.Text('個')],\n",
    "    [sg.Button('購入', key='-SUBMIT-')],\n",
    "    [sg.Text(key='-AMOUNT-', size=(120,10))]]\n",
    "window = sg.Window('kii app', layout, size= (300,150))\n",
    "\n",
    "while True:\n",
    "    event, values = window.read()\n",
    "    if event == '-SUBMIT-':\n",
    "        total = 150*int(values['-QUANTITY-'])\n",
    "        window['-AMOUNT-'].update(value=f'金額：{total}')\n",
    "    if event == sg.WIN_CLOSED:\n",
    "        break"
   ]
  },
  {
   "cell_type": "code",
   "execution_count": 2,
   "metadata": {},
   "outputs": [
    {
     "ename": "SystemExit",
     "evalue": "",
     "output_type": "error",
     "traceback": [
      "An exception has occurred, use %tb to see the full traceback.\n",
      "\u001b[0;31mSystemExit\u001b[0m\n"
     ]
    },
    {
     "name": "stderr",
     "output_type": "stream",
     "text": [
      "/Users/kii/opt/anaconda3/envs/stdenv/lib/python3.9/site-packages/IPython/core/interactiveshell.py:3405: UserWarning: To exit: use 'exit', 'quit', or Ctrl-D.\n",
      "  warn(\"To exit: use 'exit', 'quit', or Ctrl-D.\", stacklevel=1)\n"
     ]
    }
   ],
   "source": [
    "import PySimpleGUI as sg\n",
    "import requests\n",
    "layout = [[sg.Text('郵便番号：'),\n",
    "    sg.InputText(key='-NUMBER1-', size=(10,3)),\n",
    "    sg.Text('-'),\n",
    "    sg.InputText(key='-NUMBER2-', size=(10,3))],\n",
    "    [sg.Text('住所：',size=(5,5)),\n",
    "    sg.Text(key='-ADDRESS-', size=(20,5))],\n",
    "    [sg.Button('実行', key='-SUBMIT-')]]\n",
    "\n",
    "window = sg.Window('きいapp', layout, size=(300,150))\n",
    "\n",
    "while True:\n",
    "    event,values = window.read()\n",
    "\n",
    "    if event == '-SUBMIT-':\n",
    "        num1 = values['-NUMBER1-']\n",
    "        num2 = values['-NUMBER2-']\n",
    "        URL = 'https://zipcloud.ibsnet.co.jp/api/search'\n",
    "        res = requests.get(f'{URL}?zipcode={num1}{num2}')\n",
    "        res_json = res.json()\n",
    "        if res_json['status'] == 200:\n",
    "            result = res_json['results'][0]\n",
    "            adr1 = result['address1']\n",
    "            adr2 = result['address2']\n",
    "            adr3 = result['address3']\n",
    "            window['-ADDRESS-'].update(f'{adr1}{adr2}{adr3}')\n",
    "        else:\n",
    "            window['-ADDRESS-'].update('住所の取得に失敗')"
   ]
  },
  {
   "cell_type": "code",
   "execution_count": null,
   "metadata": {},
   "outputs": [],
   "source": []
  }
 ],
 "metadata": {
  "interpreter": {
   "hash": "6e3b034470570cd20b7de1cfbe14068d39f54646a4801e222cd4d7166f94b091"
  },
  "kernelspec": {
   "display_name": "Python 3.9.12 ('stdenv')",
   "language": "python",
   "name": "python3"
  },
  "language_info": {
   "codemirror_mode": {
    "name": "ipython",
    "version": 3
   },
   "file_extension": ".py",
   "mimetype": "text/x-python",
   "name": "python",
   "nbconvert_exporter": "python",
   "pygments_lexer": "ipython3",
   "version": "3.9.12"
  },
  "orig_nbformat": 4
 },
 "nbformat": 4,
 "nbformat_minor": 2
}
