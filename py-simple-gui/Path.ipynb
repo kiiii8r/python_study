{
 "cells": [
  {
   "cell_type": "code",
   "execution_count": 19,
   "metadata": {},
   "outputs": [
    {
     "name": "stdout",
     "output_type": "stream",
     "text": [
      "テストファイル\n",
      "\n",
      "/Users/kii/work/python/python-study/py-simple-gui/Path.ipynb\n",
      "/Users/kii/work/python/python-study/py-simple-gui/GUI.ipynb\n",
      "/Users/kii/work/python/python-study/py-simple-gui/memo1.txt\n",
      "/Users/kii/work/python/python-study/py-simple-gui/youtube.ipynb\n"
     ]
    }
   ],
   "source": [
    "from pathlib import Path\n",
    "\n",
    "# 絶対パスを取得\n",
    "cd = Path.cwd()\n",
    "\n",
    "# txtファイルを指定\n",
    "filepath = cd / 'memo1.txt'\n",
    "\n",
    "# txtファイルを開く\n",
    "# with filepath.open(encoding='utf-8') as f:\n",
    "#     print(f.read())\n",
    "\n",
    "# txtファイル読み込み\n",
    "contents = filepath.read_text(encoding='utf-8')\n",
    "print(contents)\n",
    "\n",
    "# txtファイル作成＆書き込み\n",
    "filepath = Path('memo2.txt')\n",
    "contents = 'メモへ書き込み'\n",
    "filepath.write_text(contents,encoding='utf-8')\n",
    "\n",
    "# ファイルの削除（完全に削除され、ゴミ箱にもなくなる）\n",
    "filepath.unlink()\n",
    "\n",
    "# 指定の絶対パスのフォルダ内の全てのファイルの絶対パスを取得\n",
    "for i in cd.iterdir():\n",
    "    print(i)"
   ]
  }
 ],
 "metadata": {
  "interpreter": {
   "hash": "6e3b034470570cd20b7de1cfbe14068d39f54646a4801e222cd4d7166f94b091"
  },
  "kernelspec": {
   "display_name": "Python 3.9.12 ('stdenv')",
   "language": "python",
   "name": "python3"
  },
  "language_info": {
   "codemirror_mode": {
    "name": "ipython",
    "version": 3
   },
   "file_extension": ".py",
   "mimetype": "text/x-python",
   "name": "python",
   "nbconvert_exporter": "python",
   "pygments_lexer": "ipython3",
   "version": "3.9.12"
  },
  "orig_nbformat": 4
 },
 "nbformat": 4,
 "nbformat_minor": 2
}
