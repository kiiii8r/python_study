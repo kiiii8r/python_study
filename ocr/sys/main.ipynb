{
 "cells": [
  {
   "cell_type": "code",
   "execution_count": 2,
   "metadata": {},
   "outputs": [
    {
     "name": "stdout",
     "output_type": "stream",
     "text": [
      "\n"
     ]
    }
   ],
   "source": [
    "# png,jpg専用\n",
    "import io\n",
    "from google.cloud import vision\n",
    "from google.oauth2 import service_account\n",
    "\n",
    "# 身元証明書のjson読み込み\n",
    "credentials = service_account.Credentials.from_service_account_file('ocr.json')\n",
    "client = vision.ImageAnnotatorClient(credentials=credentials)\n",
    "\n",
    "# OCR対象の画像パス\n",
    "input_file = \"/Users/kii/work/python/python-study/ocr/pdf/M&Aデータ_33-62_202208/M&Aデータ_33-62_202208.pdf_000.pdf\"\n",
    "\n",
    "with io.open(input_file, 'rb') as image_file:\n",
    "    content = image_file.read()\n",
    "image = vision.Image(content=content)\n",
    "response = client.document_text_detection(image=image)\n",
    "\n",
    "# OCRした結果を表示\n",
    "print(response.full_text_annotation.text)\n",
    "\n",
    "f = open('test.txt', 'w')\n",
    "f.write(response.full_text_annotation.text)\n",
    "f.close()"
   ]
  },
  {
   "cell_type": "code",
   "execution_count": 9,
   "metadata": {},
   "outputs": [],
   "source": [
    "# pdf専用\n",
    "from google.cloud import vision\n",
    "import pathlib\n",
    "\n",
    "client = vision.ImageAnnotatorClient.from_service_account_json(\n",
    "        'ocr.json')\n",
    "\n",
    "# DOCUMENT_TEXT_DETECTIONを指定\n",
    "feature = vision.Feature(\n",
    "        type=vision.Feature.Type.DOCUMENT_TEXT_DETECTION)\n",
    "\n",
    "curdir = 'M&Aデータ_93-98_202209'\n",
    "files = list(pathlib.Path(curdir).glob('*.pdf'))\n",
    "\n",
    "for file in files:\n",
    "        # 入力\n",
    "        with open(file, 'rb') as fp:\n",
    "                content = fp.read()\n",
    "        input_config = vision.InputConfig(\n",
    "                content=content, mime_type='application/pdf')\n",
    "\n",
    "        # リクエスト\n",
    "        req = vision.AnnotateFileRequest(\n",
    "                features=[feature], input_config=input_config)\n",
    "        res = client.batch_annotate_files(requests=[req])\n",
    "\n",
    "        # 1つ目のレスポンスの内容を取得（requestsを1個しか送ってないのでresponseは1つのみ）\n",
    "        first_res = res.responses[0]\n",
    "\n",
    "        # DOCUMENT_TEXT_DETECTIONではfull_text_annotationが返ってくる\n",
    "        annotation = first_res.responses[0].full_text_annotation\n",
    "\n",
    "        # 抽出されたテキストからテキストファイル作成\n",
    "        file_name = str(file).replace('.pdf', '')\n",
    "        file_name = str(file).replace('/' + curdir, '')\n",
    "\n",
    "        f = open('./output/{}.txt'.format(file_name), 'w')\n",
    "        f.write(annotation.text)\n",
    "        f.close()"
   ]
  },
  {
   "cell_type": "code",
   "execution_count": 6,
   "metadata": {},
   "outputs": [],
   "source": [
    "# プログラム1｜ライブラリ設定\n",
    "import PyPDF2\n",
    "import pathlib\n",
    "import os\n",
    "\n",
    "# プログラム2｜フォルダ内のPDFを全て取得\n",
    "curdir = os.getcwd()\n",
    "files = list(pathlib.Path(curdir).glob('*.pdf'))\n",
    "\n",
    "# プログラム3｜フォルダ内の全てのPDFを処理\n",
    "for file in files:\n",
    "\n",
    "    # プログラム4｜分割したPDFを保管するためのフォルダ作成\n",
    "    filename = file.name\n",
    "    foldername = filename.replace('.pdf','')\n",
    "    path = os.path.join(curdir, foldername)\n",
    "    if not os.path.isdir(path):\n",
    "        os.makedirs(path)\n",
    "\n",
    "    # プログラム5｜PDFを分割\n",
    "    pdf = PyPDF2.PdfFileReader(filename)\n",
    "    for page in range(pdf.numPages):\n",
    "        newpdf = PyPDF2.PdfFileWriter()\n",
    "        newpdf.addPage(pdf.getPage(page))\n",
    "\n",
    "        # プログラム6｜分割したPDFに名前を付けて保存\n",
    "        pageNo = format(page, '0>3')\n",
    "        newfilename = os.path.join(path, f'{filename}_{pageNo}.pdf')\n",
    "        with open(newfilename, 'wb') as f:\n",
    "            newpdf.write(f)"
   ]
  },
  {
   "cell_type": "code",
   "execution_count": 59,
   "metadata": {},
   "outputs": [],
   "source": [
    "f = open('./output/a.txt', 'w')\n",
    "f.write(annotation.text)\n",
    "f.close()"
   ]
  },
  {
   "cell_type": "code",
   "execution_count": null,
   "metadata": {},
   "outputs": [],
   "source": []
  }
 ],
 "metadata": {
  "interpreter": {
   "hash": "82232de28859a7895267f13f85790cb2620135cd95be6c2846e68d0ad16ba952"
  },
  "kernelspec": {
   "display_name": "Python 3.9.12 ('pyenv')",
   "language": "python",
   "name": "python3"
  },
  "language_info": {
   "codemirror_mode": {
    "name": "ipython",
    "version": 3
   },
   "file_extension": ".py",
   "mimetype": "text/x-python",
   "name": "python",
   "nbconvert_exporter": "python",
   "pygments_lexer": "ipython3",
   "version": "3.9.12"
  },
  "orig_nbformat": 4
 },
 "nbformat": 4,
 "nbformat_minor": 2
}
