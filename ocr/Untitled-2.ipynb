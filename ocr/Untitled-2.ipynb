{
 "cells": [
  {
   "cell_type": "code",
   "execution_count": null,
   "metadata": {},
   "outputs": [],
   "source": [
    "import io\n",
    "from google.cloud import vision\n",
    "from google.oauth2 import service_account\n",
    " \n",
    "# 身元証明書のjson読み込み\n",
    "credentials = service_account.Credentials.from_service_account_file('key.json')\n",
    "client = vision.ImageAnnotatorClient(credentials=credentials)\n",
    " \n",
    "# OCR対象の画像パス\n",
    "input_file = \"test.png\"\n",
    " \n",
    "with io.open(input_file, 'rb') as image_file:\n",
    "    content = image_file.read()\n",
    "image = vision.Image(content=content)\n",
    "response = client.document_text_detection(image=image)\n",
    " \n",
    "# OCRした結果を表示\n",
    "print(response.full_text_annotation.text)"
   ]
  }
 ],
 "metadata": {
  "language_info": {
   "name": "python"
  },
  "orig_nbformat": 4
 },
 "nbformat": 4,
 "nbformat_minor": 2
}
