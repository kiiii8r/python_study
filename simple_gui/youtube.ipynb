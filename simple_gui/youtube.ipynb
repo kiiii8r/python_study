{
 "cells": [
  {
   "cell_type": "code",
   "execution_count": 4,
   "metadata": {},
   "outputs": [],
   "source": [
    "import PySimpleGUI as sg\n",
    "\n",
    "# テーマを変更\n",
    "sg.theme('BluePurple')\n",
    "\n",
    "layout = [[sg.Text('名前：'), sg.InputText(key='-NAME-')],\n",
    "    [sg.Text('住所：'), sg.InputText(key='-ADDRESS-')],\n",
    "    [sg.Button('実行', key='-SUBMIT-')]\n",
    "]\n",
    "\n",
    "# レイアウトの名称とサイズの定\n",
    "window = sg.Window('きいapp', layout, size=(300,150))\n",
    "\n",
    "while True:\n",
    "    event, values = window.read()\n",
    "\n",
    "    # 実行時の動作\n",
    "    if event == '-SUBMIT-':\n",
    "        print(values['-NAME-'])\n",
    "        print(values['-ADDRESS-'])\n",
    "\n",
    "    # 閉じるボタンで停止\n",
    "    if event == sg.WIN_CLOSED:\n",
    "        break"
   ]
  },
  {
   "cell_type": "code",
   "execution_count": null,
   "metadata": {},
   "outputs": [],
   "source": [
    "import PySimpleGUI as sg\n",
    "\n",
    "layout = [[sg.Text('牛乳（150円）:'),\n",
    "    sg.Combo(list(range(1,11)), key='-QUANTITY-'),\n",
    "    sg.Text('個')],\n",
    "    [sg.Button('購入', key='-SUBMIT-')],\n",
    "    [sg.Text(key='-AMOUNT-', size=(120,10))]]\n",
    "window = sg.Window('kii app', layout, size= (300,150))\n",
    "\n",
    "while True:\n",
    "    event, values = window.read()\n",
    "    if event == '-SUBMIT-':\n",
    "        total = 150*int(values['-QUANTITY-'])\n",
    "        window['-AMOUNT-'].update(value=f'金額：{total}')\n",
    "    if event == sg.WIN_CLOSED:\n",
    "        break"
   ]
  },
  {
   "cell_type": "code",
   "execution_count": null,
   "metadata": {},
   "outputs": [],
   "source": [
    "import PySimpleGUI as sg\n",
    "import requests\n",
    "layout = [[sg.Text('郵便番号：'),\n",
    "    sg.InputText(key='-NUMBER1-', size=(10,3)),\n",
    "    sg.Text('-'),\n",
    "    sg.InputText(key='-NUMBER2-', size=(10,3))],\n",
    "    [sg.Text('住所：',size=(5,5)),\n",
    "    sg.Text(key='-ADDRESS-', size=(20,5))],\n",
    "    [sg.Button('実行', key='-SUBMIT-')]]\n",
    "\n",
    "window = sg.Window('きいapp', layout, size=(300,150))\n",
    "\n",
    "while True:\n",
    "    event,values = window.read()\n",
    "\n",
    "    if event == '-SUBMIT-':\n",
    "        num1 = values['-NUMBER1-']\n",
    "        num2 = values['-NUMBER2-']\n",
    "        URL = 'https://zipcloud.ibsnet.co.jp/api/search'\n",
    "        res = requests.get(f'{URL}?zipcode={num1}{num2}')\n",
    "        res_json = res.json()\n",
    "        if res_json['status'] == 200:\n",
    "            result = res_json['results'][0]\n",
    "            adr1 = result['address1']\n",
    "            adr2 = result['address2']\n",
    "            adr3 = result['address3']\n",
    "            window['-ADDRESS-'].update(f'{adr1}{adr2}{adr3}')\n",
    "        else:\n",
    "            window['-ADDRESS-'].update('住所の取得に失敗')"
   ]
  }
 ],
 "metadata": {
  "interpreter": {
   "hash": "bab484d906b2f18946df9f1d3f9afe7b18e4da337495264419bb66ea8a340375"
  },
  "kernelspec": {
   "display_name": "Python 3.9.12 ('base')",
   "language": "python",
   "name": "python3"
  },
  "language_info": {
   "codemirror_mode": {
    "name": "ipython",
    "version": 3
   },
   "file_extension": ".py",
   "mimetype": "text/x-python",
   "name": "python",
   "nbconvert_exporter": "python",
   "pygments_lexer": "ipython3",
   "version": "3.9.12"
  },
  "orig_nbformat": 4
 },
 "nbformat": 4,
 "nbformat_minor": 2
}
