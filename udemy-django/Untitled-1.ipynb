{
 "cells": [
  {
   "cell_type": "code",
   "execution_count": 3,
   "metadata": {},
   "outputs": [
    {
     "name": "stdout",
     "output_type": "stream",
     "text": [
      "10\n",
      "20\n",
      "30\n",
      "40\n",
      "50\n",
      "60\n"
     ]
    }
   ],
   "source": [
    "list_a = [1,2,3,4,5,6]\n",
    "map_a = map(lambda x: x * 10, list_a)\n",
    "\n",
    "for x in map_a:\n",
    "    print(x)"
   ]
  },
  {
   "cell_type": "code",
   "execution_count": 12,
   "metadata": {},
   "outputs": [
    {
     "name": "stdout",
     "output_type": "stream",
     "text": [
      "class val\n"
     ]
    },
    {
     "ename": "NameError",
     "evalue": "name 'instance_b' is not defined",
     "output_type": "error",
     "traceback": [
      "\u001b[0;31m---------------------------------------------------------------------------\u001b[0m",
      "\u001b[0;31mNameError\u001b[0m                                 Traceback (most recent call last)",
      "\u001b[1;32m/Users/kii/work/python/python-study/udemy-django/Untitled-1.ipynb Cell 2'\u001b[0m in \u001b[0;36m<cell line: 17>\u001b[0;34m()\u001b[0m\n\u001b[1;32m     <a href='vscode-notebook-cell:/Users/kii/work/python/python-study/udemy-django/Untitled-1.ipynb#ch0000001?line=10'>11</a>\u001b[0m \u001b[39m# instance_a = SampleA()\u001b[39;00m\n\u001b[1;32m     <a href='vscode-notebook-cell:/Users/kii/work/python/python-study/udemy-django/Untitled-1.ipynb#ch0000001?line=11'>12</a>\u001b[0m \u001b[39m# print(instance_a.class_val)\u001b[39;00m\n\u001b[1;32m     <a href='vscode-notebook-cell:/Users/kii/work/python/python-study/udemy-django/Untitled-1.ipynb#ch0000001?line=12'>13</a>\u001b[0m \u001b[39m# instance_a.set_val()\u001b[39;00m\n\u001b[1;32m     <a href='vscode-notebook-cell:/Users/kii/work/python/python-study/udemy-django/Untitled-1.ipynb#ch0000001?line=13'>14</a>\u001b[0m \u001b[39m# print(instance_a.instance_val)\u001b[39;00m\n\u001b[1;32m     <a href='vscode-notebook-cell:/Users/kii/work/python/python-study/udemy-django/Untitled-1.ipynb#ch0000001?line=14'>15</a>\u001b[0m \u001b[39m# instance_a.print_val()\u001b[39;00m\n\u001b[1;32m     <a href='vscode-notebook-cell:/Users/kii/work/python/python-study/udemy-django/Untitled-1.ipynb#ch0000001?line=15'>16</a>\u001b[0m \u001b[39mprint\u001b[39m(SampleA\u001b[39m.\u001b[39mclass_val)\n\u001b[0;32m---> <a href='vscode-notebook-cell:/Users/kii/work/python/python-study/udemy-django/Untitled-1.ipynb#ch0000001?line=16'>17</a>\u001b[0m \u001b[39mprint\u001b[39m(instance_b\u001b[39m.\u001b[39m\u001b[39m__class__\u001b[39m\u001b[39m.\u001b[39mclass_val)\n",
      "\u001b[0;31mNameError\u001b[0m: name 'instance_b' is not defined"
     ]
    }
   ],
   "source": [
    "class SampleA():\n",
    "    class_val = 'class val' # クラス変数\n",
    "\n",
    "    def set_val(self):\n",
    "        self.instance_val = 'instance val' # インスタンス変数\n",
    "\n",
    "    def print_val(self):\n",
    "        print(f'クラス変数 = {self.class_val}')\n",
    "        print(f'インスタンス変数 = {self.instance_val}')\n",
    "\n",
    "# instance_a = SampleA()\n",
    "# print(instance_a.class_val)\n",
    "# instance_a.set_val()\n",
    "# print(instance_a.instance_val)\n",
    "# instance_a.print_val()\n",
    "print(SampleA.class_val)\n",
    "print(instance_b.__class__.class_val)"
   ]
  },
  {
   "cell_type": "code",
   "execution_count": null,
   "metadata": {},
   "outputs": [],
   "source": []
  }
 ],
 "metadata": {
  "interpreter": {
   "hash": "bab484d906b2f18946df9f1d3f9afe7b18e4da337495264419bb66ea8a340375"
  },
  "kernelspec": {
   "display_name": "Python 3.9.12 ('base')",
   "language": "python",
   "name": "python3"
  },
  "language_info": {
   "codemirror_mode": {
    "name": "ipython",
    "version": 3
   },
   "file_extension": ".py",
   "mimetype": "text/x-python",
   "name": "python",
   "nbconvert_exporter": "python",
   "pygments_lexer": "ipython3",
   "version": "3.9.12"
  },
  "orig_nbformat": 4
 },
 "nbformat": 4,
 "nbformat_minor": 2
}
