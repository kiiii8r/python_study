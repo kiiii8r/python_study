{
 "cells": [
  {
   "cell_type": "markdown",
   "metadata": {},
   "source": [
    "### その１"
   ]
  },
  {
   "cell_type": "code",
   "execution_count": 1,
   "metadata": {},
   "outputs": [],
   "source": [
    "class Human:\n",
    "\n",
    "    def __init__(self, name, age):\n",
    "        self.__name = name\n",
    "        self.__age = age\n",
    "\n",
    "    def get_name(self):\n",
    "        print('getter name を呼び出しました')\n",
    "        return self.__name\n",
    "\n",
    "    def get_age(self):\n",
    "        print('getter age を呼び出しました')\n",
    "        return self.__age\n",
    "\n",
    "    def set_name(self, name):\n",
    "        print('setter name を呼び出しました')\n",
    "        self.__name = name\n",
    "\n",
    "    def set_age(self, age):\n",
    "        print('setter age を呼び出しました')\n",
    "        self.__age = age\n",
    "\n",
    "\n",
    "    name = property(get_name, set_name)\n",
    "    age = property(get_age, set_age)\n",
    "\n",
    "    def print_msg(self):\n",
    "        print(self.nem)"
   ]
  }
 ],
 "metadata": {
  "interpreter": {
   "hash": "bab484d906b2f18946df9f1d3f9afe7b18e4da337495264419bb66ea8a340375"
  },
  "kernelspec": {
   "display_name": "Python 3.9.12 ('base')",
   "language": "python",
   "name": "python3"
  },
  "language_info": {
   "codemirror_mode": {
    "name": "ipython",
    "version": 3
   },
   "file_extension": ".py",
   "mimetype": "text/x-python",
   "name": "python",
   "nbconvert_exporter": "python",
   "pygments_lexer": "ipython3",
   "version": "3.9.12"
  },
  "orig_nbformat": 4
 },
 "nbformat": 4,
 "nbformat_minor": 2
}
